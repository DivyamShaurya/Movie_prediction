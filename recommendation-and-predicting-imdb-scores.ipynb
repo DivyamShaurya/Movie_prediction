{
 "cells": [
  {
   "cell_type": "markdown",
   "metadata": {},
   "source": [
    "# Predicting movie ratings and recommendation system"
   ]
  },
  {
   "cell_type": "markdown",
   "metadata": {},
   "source": [
    "![](http://)## Overview of this project\n",
    "\n",
    "I used machine learning to predict a movie's score and cosine similarity for recommendation system.For this project, I will be using the [5000 movies dataset][db], and supervised learning, to predict the user score for a film.\n",
    "\n",
    "\n",
    "\n",
    "For my project, instead of using a cosine-similarity algorithm, I will use machine learning to predict a movie's score. To do this, I will: \n",
    "- create a decimal representation of the features: genres, actors, directors, keywords, and production companies\n",
    "  - Like Swain has done, I will create a binary array for each feature. Then, I will analyze the array like points in a number line\n",
    "    - Looking at the points, I can identify a point that best describes the distribution of 1's, and use that as a decimal representation of the feature\n",
    "- normalize the decimal values to be within [0,1]\n",
    "- Split data into training and testing sets\n",
    "  - 70% for training, 30% for testing\n",
    "- Train a regression-based model using Scikit learn's Bayesian Ridge\n",
    "- Make predictions and evaluate using an R^2 score\n",
    "\n"
   ]
  },
  {
   "cell_type": "markdown",
   "metadata": {},
   "source": [
    "## Setup\n",
    "### Import Modules"
   ]
  },
  {
   "cell_type": "code",
   "execution_count": 119,
   "metadata": {
    "collapsed": true
   },
   "outputs": [],
   "source": [
    "import io\n",
    "import os\n",
    "import matplotlib.pyplot as plt\n",
    "import numpy as np \n",
    "import pandas as pd \n",
    "\n",
    "import json #converting JSON to lists for dataframe\n",
    "import warnings\n",
    "warnings.filterwarnings('ignore')\n",
    "import base64\n",
    "import codecs\n",
    "from IPython.display import HTML\n",
    "\n",
    "%matplotlib inline"
   ]
  },
  {
   "cell_type": "code",
   "execution_count": 120,
   "metadata": {
    "collapsed": true
   },
   "outputs": [],
   "source": [
    "movie = pd.read_csv(\"../input/tmdb-movie-metadata/tmdb_5000_movies.csv\")\n",
    "credit = pd.read_csv(\"../input/tmdb-movie-metadata/tmdb_5000_credits.csv\")\n",
    "credit.columns = ['id','tittle','cast','crew']\n",
    "movies = movie.merge(credit,on='id')"
   ]
  },
  {
   "cell_type": "code",
   "execution_count": 121,
   "metadata": {
    "collapsed": true
   },
   "outputs": [],
   "source": [
    "movies = movies[(movies['vote_average']!=0)]"
   ]
  },
  {
   "cell_type": "markdown",
   "metadata": {},
   "source": [
    "Quick look at movies"
   ]
  },
  {
   "cell_type": "code",
   "execution_count": 122,
   "metadata": {},
   "outputs": [
    {
     "data": {
      "text/html": [
       "<div>\n",
       "<style scoped>\n",
       "    .dataframe tbody tr th:only-of-type {\n",
       "        vertical-align: middle;\n",
       "    }\n",
       "\n",
       "    .dataframe tbody tr th {\n",
       "        vertical-align: top;\n",
       "    }\n",
       "\n",
       "    .dataframe thead th {\n",
       "        text-align: right;\n",
       "    }\n",
       "</style>\n",
       "<table border=\"1\" class=\"dataframe\">\n",
       "  <thead>\n",
       "    <tr style=\"text-align: right;\">\n",
       "      <th></th>\n",
       "      <th>budget</th>\n",
       "      <th>genres</th>\n",
       "      <th>homepage</th>\n",
       "      <th>id</th>\n",
       "      <th>keywords</th>\n",
       "      <th>original_language</th>\n",
       "      <th>original_title</th>\n",
       "      <th>overview</th>\n",
       "      <th>popularity</th>\n",
       "      <th>production_companies</th>\n",
       "      <th>production_countries</th>\n",
       "      <th>release_date</th>\n",
       "      <th>revenue</th>\n",
       "      <th>runtime</th>\n",
       "      <th>spoken_languages</th>\n",
       "      <th>status</th>\n",
       "      <th>tagline</th>\n",
       "      <th>title</th>\n",
       "      <th>vote_average</th>\n",
       "      <th>vote_count</th>\n",
       "    </tr>\n",
       "  </thead>\n",
       "  <tbody>\n",
       "    <tr>\n",
       "      <th>0</th>\n",
       "      <td>237000000</td>\n",
       "      <td>[{\"id\": 28, \"name\": \"Action\"}, {\"id\": 12, \"nam...</td>\n",
       "      <td>http://www.avatarmovie.com/</td>\n",
       "      <td>19995</td>\n",
       "      <td>[{\"id\": 1463, \"name\": \"culture clash\"}, {\"id\":...</td>\n",
       "      <td>en</td>\n",
       "      <td>Avatar</td>\n",
       "      <td>In the 22nd century, a paraplegic Marine is di...</td>\n",
       "      <td>150.437577</td>\n",
       "      <td>[{\"name\": \"Ingenious Film Partners\", \"id\": 289...</td>\n",
       "      <td>[{\"iso_3166_1\": \"US\", \"name\": \"United States o...</td>\n",
       "      <td>2009-12-10</td>\n",
       "      <td>2787965087</td>\n",
       "      <td>162.0</td>\n",
       "      <td>[{\"iso_639_1\": \"en\", \"name\": \"English\"}, {\"iso...</td>\n",
       "      <td>Released</td>\n",
       "      <td>Enter the World of Pandora.</td>\n",
       "      <td>Avatar</td>\n",
       "      <td>7.2</td>\n",
       "      <td>11800</td>\n",
       "    </tr>\n",
       "    <tr>\n",
       "      <th>1</th>\n",
       "      <td>300000000</td>\n",
       "      <td>[{\"id\": 12, \"name\": \"Adventure\"}, {\"id\": 14, \"...</td>\n",
       "      <td>http://disney.go.com/disneypictures/pirates/</td>\n",
       "      <td>285</td>\n",
       "      <td>[{\"id\": 270, \"name\": \"ocean\"}, {\"id\": 726, \"na...</td>\n",
       "      <td>en</td>\n",
       "      <td>Pirates of the Caribbean: At World's End</td>\n",
       "      <td>Captain Barbossa, long believed to be dead, ha...</td>\n",
       "      <td>139.082615</td>\n",
       "      <td>[{\"name\": \"Walt Disney Pictures\", \"id\": 2}, {\"...</td>\n",
       "      <td>[{\"iso_3166_1\": \"US\", \"name\": \"United States o...</td>\n",
       "      <td>2007-05-19</td>\n",
       "      <td>961000000</td>\n",
       "      <td>169.0</td>\n",
       "      <td>[{\"iso_639_1\": \"en\", \"name\": \"English\"}]</td>\n",
       "      <td>Released</td>\n",
       "      <td>At the end of the world, the adventure begins.</td>\n",
       "      <td>Pirates of the Caribbean: At World's End</td>\n",
       "      <td>6.9</td>\n",
       "      <td>4500</td>\n",
       "    </tr>\n",
       "    <tr>\n",
       "      <th>2</th>\n",
       "      <td>245000000</td>\n",
       "      <td>[{\"id\": 28, \"name\": \"Action\"}, {\"id\": 12, \"nam...</td>\n",
       "      <td>http://www.sonypictures.com/movies/spectre/</td>\n",
       "      <td>206647</td>\n",
       "      <td>[{\"id\": 470, \"name\": \"spy\"}, {\"id\": 818, \"name...</td>\n",
       "      <td>en</td>\n",
       "      <td>Spectre</td>\n",
       "      <td>A cryptic message from Bond’s past sends him o...</td>\n",
       "      <td>107.376788</td>\n",
       "      <td>[{\"name\": \"Columbia Pictures\", \"id\": 5}, {\"nam...</td>\n",
       "      <td>[{\"iso_3166_1\": \"GB\", \"name\": \"United Kingdom\"...</td>\n",
       "      <td>2015-10-26</td>\n",
       "      <td>880674609</td>\n",
       "      <td>148.0</td>\n",
       "      <td>[{\"iso_639_1\": \"fr\", \"name\": \"Fran\\u00e7ais\"},...</td>\n",
       "      <td>Released</td>\n",
       "      <td>A Plan No One Escapes</td>\n",
       "      <td>Spectre</td>\n",
       "      <td>6.3</td>\n",
       "      <td>4466</td>\n",
       "    </tr>\n",
       "    <tr>\n",
       "      <th>3</th>\n",
       "      <td>250000000</td>\n",
       "      <td>[{\"id\": 28, \"name\": \"Action\"}, {\"id\": 80, \"nam...</td>\n",
       "      <td>http://www.thedarkknightrises.com/</td>\n",
       "      <td>49026</td>\n",
       "      <td>[{\"id\": 849, \"name\": \"dc comics\"}, {\"id\": 853,...</td>\n",
       "      <td>en</td>\n",
       "      <td>The Dark Knight Rises</td>\n",
       "      <td>Following the death of District Attorney Harve...</td>\n",
       "      <td>112.312950</td>\n",
       "      <td>[{\"name\": \"Legendary Pictures\", \"id\": 923}, {\"...</td>\n",
       "      <td>[{\"iso_3166_1\": \"US\", \"name\": \"United States o...</td>\n",
       "      <td>2012-07-16</td>\n",
       "      <td>1084939099</td>\n",
       "      <td>165.0</td>\n",
       "      <td>[{\"iso_639_1\": \"en\", \"name\": \"English\"}]</td>\n",
       "      <td>Released</td>\n",
       "      <td>The Legend Ends</td>\n",
       "      <td>The Dark Knight Rises</td>\n",
       "      <td>7.6</td>\n",
       "      <td>9106</td>\n",
       "    </tr>\n",
       "    <tr>\n",
       "      <th>4</th>\n",
       "      <td>260000000</td>\n",
       "      <td>[{\"id\": 28, \"name\": \"Action\"}, {\"id\": 12, \"nam...</td>\n",
       "      <td>http://movies.disney.com/john-carter</td>\n",
       "      <td>49529</td>\n",
       "      <td>[{\"id\": 818, \"name\": \"based on novel\"}, {\"id\":...</td>\n",
       "      <td>en</td>\n",
       "      <td>John Carter</td>\n",
       "      <td>John Carter is a war-weary, former military ca...</td>\n",
       "      <td>43.926995</td>\n",
       "      <td>[{\"name\": \"Walt Disney Pictures\", \"id\": 2}]</td>\n",
       "      <td>[{\"iso_3166_1\": \"US\", \"name\": \"United States o...</td>\n",
       "      <td>2012-03-07</td>\n",
       "      <td>284139100</td>\n",
       "      <td>132.0</td>\n",
       "      <td>[{\"iso_639_1\": \"en\", \"name\": \"English\"}]</td>\n",
       "      <td>Released</td>\n",
       "      <td>Lost in our world, found in another.</td>\n",
       "      <td>John Carter</td>\n",
       "      <td>6.1</td>\n",
       "      <td>2124</td>\n",
       "    </tr>\n",
       "  </tbody>\n",
       "</table>\n",
       "</div>"
      ],
      "text/plain": [
       "      budget                                             genres  \\\n",
       "0  237000000  [{\"id\": 28, \"name\": \"Action\"}, {\"id\": 12, \"nam...   \n",
       "1  300000000  [{\"id\": 12, \"name\": \"Adventure\"}, {\"id\": 14, \"...   \n",
       "2  245000000  [{\"id\": 28, \"name\": \"Action\"}, {\"id\": 12, \"nam...   \n",
       "3  250000000  [{\"id\": 28, \"name\": \"Action\"}, {\"id\": 80, \"nam...   \n",
       "4  260000000  [{\"id\": 28, \"name\": \"Action\"}, {\"id\": 12, \"nam...   \n",
       "\n",
       "                                       homepage      id  \\\n",
       "0                   http://www.avatarmovie.com/   19995   \n",
       "1  http://disney.go.com/disneypictures/pirates/     285   \n",
       "2   http://www.sonypictures.com/movies/spectre/  206647   \n",
       "3            http://www.thedarkknightrises.com/   49026   \n",
       "4          http://movies.disney.com/john-carter   49529   \n",
       "\n",
       "                                            keywords original_language  \\\n",
       "0  [{\"id\": 1463, \"name\": \"culture clash\"}, {\"id\":...                en   \n",
       "1  [{\"id\": 270, \"name\": \"ocean\"}, {\"id\": 726, \"na...                en   \n",
       "2  [{\"id\": 470, \"name\": \"spy\"}, {\"id\": 818, \"name...                en   \n",
       "3  [{\"id\": 849, \"name\": \"dc comics\"}, {\"id\": 853,...                en   \n",
       "4  [{\"id\": 818, \"name\": \"based on novel\"}, {\"id\":...                en   \n",
       "\n",
       "                             original_title  \\\n",
       "0                                    Avatar   \n",
       "1  Pirates of the Caribbean: At World's End   \n",
       "2                                   Spectre   \n",
       "3                     The Dark Knight Rises   \n",
       "4                               John Carter   \n",
       "\n",
       "                                            overview  popularity  \\\n",
       "0  In the 22nd century, a paraplegic Marine is di...  150.437577   \n",
       "1  Captain Barbossa, long believed to be dead, ha...  139.082615   \n",
       "2  A cryptic message from Bond’s past sends him o...  107.376788   \n",
       "3  Following the death of District Attorney Harve...  112.312950   \n",
       "4  John Carter is a war-weary, former military ca...   43.926995   \n",
       "\n",
       "                                production_companies  \\\n",
       "0  [{\"name\": \"Ingenious Film Partners\", \"id\": 289...   \n",
       "1  [{\"name\": \"Walt Disney Pictures\", \"id\": 2}, {\"...   \n",
       "2  [{\"name\": \"Columbia Pictures\", \"id\": 5}, {\"nam...   \n",
       "3  [{\"name\": \"Legendary Pictures\", \"id\": 923}, {\"...   \n",
       "4        [{\"name\": \"Walt Disney Pictures\", \"id\": 2}]   \n",
       "\n",
       "                                production_countries release_date     revenue  \\\n",
       "0  [{\"iso_3166_1\": \"US\", \"name\": \"United States o...   2009-12-10  2787965087   \n",
       "1  [{\"iso_3166_1\": \"US\", \"name\": \"United States o...   2007-05-19   961000000   \n",
       "2  [{\"iso_3166_1\": \"GB\", \"name\": \"United Kingdom\"...   2015-10-26   880674609   \n",
       "3  [{\"iso_3166_1\": \"US\", \"name\": \"United States o...   2012-07-16  1084939099   \n",
       "4  [{\"iso_3166_1\": \"US\", \"name\": \"United States o...   2012-03-07   284139100   \n",
       "\n",
       "   runtime                                   spoken_languages    status  \\\n",
       "0    162.0  [{\"iso_639_1\": \"en\", \"name\": \"English\"}, {\"iso...  Released   \n",
       "1    169.0           [{\"iso_639_1\": \"en\", \"name\": \"English\"}]  Released   \n",
       "2    148.0  [{\"iso_639_1\": \"fr\", \"name\": \"Fran\\u00e7ais\"},...  Released   \n",
       "3    165.0           [{\"iso_639_1\": \"en\", \"name\": \"English\"}]  Released   \n",
       "4    132.0           [{\"iso_639_1\": \"en\", \"name\": \"English\"}]  Released   \n",
       "\n",
       "                                          tagline  \\\n",
       "0                     Enter the World of Pandora.   \n",
       "1  At the end of the world, the adventure begins.   \n",
       "2                           A Plan No One Escapes   \n",
       "3                                 The Legend Ends   \n",
       "4            Lost in our world, found in another.   \n",
       "\n",
       "                                      title  vote_average  vote_count  \n",
       "0                                    Avatar           7.2       11800  \n",
       "1  Pirates of the Caribbean: At World's End           6.9        4500  \n",
       "2                                   Spectre           6.3        4466  \n",
       "3                     The Dark Knight Rises           7.6        9106  \n",
       "4                               John Carter           6.1        2124  "
      ]
     },
     "execution_count": 122,
     "metadata": {},
     "output_type": "execute_result"
    }
   ],
   "source": [
    "movie.head()"
   ]
  },
  {
   "cell_type": "markdown",
   "metadata": {},
   "source": [
    "###  Format dataframe\n",
    "Features: **genres, keywords, cast, crew, and production companies** are all in JSON format. Convert to simple list via following function"
   ]
  },
  {
   "cell_type": "code",
   "execution_count": 123,
   "metadata": {
    "collapsed": true
   },
   "outputs": [],
   "source": [
    "\n",
    "def to_list(df, feature_names_list): #df: dataframe, feature_names: list of all features to convert from JSON to list\n",
    "    for feature_name in feature_names_list:\n",
    "        print(\"Current:\", feature_name)\n",
    "        #STEP 1: convert JSON format to a list\n",
    "        df[feature_name]=df[feature_name].apply(json.loads)\n",
    "        #Two cases here: Feature is crew, or feature is not crew\n",
    "        if feature_name == 'crew': #if crew, due to large size, want to limit to most influential members: director, editor, cinematographer, screenplay, and composer\n",
    "            for index,i in zip(df.index,df[feature_name]):\n",
    "                feature_list_1=[]\n",
    "                limit = 10\n",
    "                if len(i) < 10:\n",
    "                    limit = len(i)\n",
    "                for j in range(limit): #top 10 crew members\n",
    "                    feature_list_1.append((i[j]['name'])) # the key 'name' contains the name of the a sub-feature (ex: sci-fi in genres)\n",
    "                df.loc[index,feature_name]= str(feature_list_1)\n",
    "        \n",
    "        elif feature_name == 'cast': #Another special case. Only want top 5 cast members (most infulential)\n",
    "            for index,i in zip(df.index,df[feature_name]):\n",
    "                feature_list_1=[]\n",
    "                if len(i) > 5:\n",
    "                    limit = 5\n",
    "                else:\n",
    "                    limit = len(i)\n",
    "                for j in range(limit): #top 5 (JSON format already has this sorted)\n",
    "                    feature_list_1.append((i[j]['name']))\n",
    "                df.loc[index,feature_name]= str(feature_list_1)\n",
    "        else:    \n",
    "            for index,i in zip(df.index,df[feature_name]):\n",
    "                feature_list_1=[]\n",
    "                for j in range(len(i)):\n",
    "                    feature_list_1.append((i[j]['name']))\n",
    "                df.loc[index,feature_name]= str(feature_list_1)\n",
    "    \n",
    "        #STEP 2: clean up and transform into unsorted list\n",
    "        df[feature_name] = df[feature_name].str.strip('[]').str.replace(' ','').str.replace(\"'\",'')\n",
    "        df[feature_name] = df[feature_name].str.split(',')\n",
    "        \n",
    "        #STEP 3: Sort list elements\n",
    "        for i,j in zip(df[feature_name],df.index):\n",
    "            features_list_2=i\n",
    "            features_list_2.sort()\n",
    "            df.loc[j,feature_name]=str(features_list_2)\n",
    "        df[feature_name]=df[feature_name].str.strip('[]').str.replace(' ','').str.replace(\"'\",'')\n",
    "        lst = df[feature_name].str.split(',')\n",
    "        if len(lst) == 0:\n",
    "            df[feature_name] = None\n",
    "        else:\n",
    "            df[feature_name]= df[feature_name].str.split(',')\n",
    "    return df"
   ]
  },
  {
   "cell_type": "code",
   "execution_count": 124,
   "metadata": {},
   "outputs": [
    {
     "name": "stdout",
     "output_type": "stream",
     "text": [
      "Current: genres\n",
      "Current: keywords\n",
      "Current: production_companies\n",
      "Current: cast\n",
      "Current: crew\n"
     ]
    }
   ],
   "source": [
    "movies = to_list(movies, ['genres', 'keywords', 'production_companies', 'cast', 'crew']) #function call"
   ]
  },
  {
   "cell_type": "markdown",
   "metadata": {},
   "source": [
    "Every dataset contain some feature with empty olumns lets remove them"
   ]
  },
  {
   "cell_type": "code",
   "execution_count": 125,
   "metadata": {},
   "outputs": [
    {
     "name": "stdout",
     "output_type": "stream",
     "text": [
      "Dropping 8 movies.\n"
     ]
    }
   ],
   "source": [
    "to_drop = []\n",
    "for i in movies.index:\n",
    "    if (movies['production_companies'][i] == [''] and movies['cast'][i] == [''] and \n",
    "        movies['crew'][i] == ['']):\n",
    "        to_drop.append(i)\n",
    "print('Dropping', str(len(to_drop)), 'movies.')\n",
    "movies = movies.drop(to_drop, axis = 0)"
   ]
  },
  {
   "cell_type": "code",
   "execution_count": 126,
   "metadata": {},
   "outputs": [
    {
     "data": {
      "text/plain": [
       "4732"
      ]
     },
     "execution_count": 126,
     "metadata": {},
     "output_type": "execute_result"
    }
   ],
   "source": [
    "movies.shape[0]"
   ]
  },
  {
   "cell_type": "markdown",
   "metadata": {},
   "source": [
    "#### Remove un-needed feature-types in dataframe"
   ]
  },
  {
   "cell_type": "code",
   "execution_count": 127,
   "metadata": {
    "collapsed": true
   },
   "outputs": [],
   "source": [
    "movies_shortened = movies[['id','original_title','genres','cast', 'crew', 'production_companies', 'keywords', 'vote_average']]"
   ]
  },
  {
   "cell_type": "markdown",
   "metadata": {},
   "source": [
    "Lets make an histogram for distribution of movie ratings"
   ]
  },
  {
   "cell_type": "code",
   "execution_count": 128,
   "metadata": {},
   "outputs": [
    {
     "data": {
      "image/png": "[encoded data removed]",
      "text/plain": [
       "<Figure size 864x720 with 1 Axes>"
      ]
     },
     "metadata": {
      "needs_background": "light"
     },
     "output_type": "display_data"
    },
    {
     "name": "stdout",
     "output_type": "stream",
     "text": [
      "Minimum of Ratings: 0.5\n",
      "Maximum of Ratings: 10.0\n",
      "Average of Ratings: 6.17\n",
      "Variance of Ratings: 0.93\n"
     ]
    }
   ],
   "source": [
    "plt.subplots(figsize=(12,10))\n",
    "n, bins, patches = plt.hist(movies_shortened['vote_average'], 30, density=1, facecolor='g', alpha=0.75)\n",
    "\n",
    "plt.xlabel('Vote_average')\n",
    "plt.ylabel('Occurence')\n",
    "plt.title('Distribution of voter average')\n",
    "plt.grid(True)\n",
    "plt.show()\n",
    "print(\"Minimum of Ratings:\", round(min(movies_shortened['vote_average']),2))\n",
    "print(\"Maximum of Ratings:\", round(max(movies_shortened['vote_average']),2))\n",
    "print(\"Average of Ratings:\", round(np.mean(movies_shortened['vote_average']),2))\n",
    "print(\"Variance of Ratings:\",round(np.var(movies_shortened['vote_average']),2))"
   ]
  },
  {
   "cell_type": "markdown",
   "metadata": {},
   "source": [
    "## Feature Engineering: Turn lists of features into numerical representations"
   ]
  },
  {
   "cell_type": "markdown",
   "metadata": {},
   "source": [
    "### Step 1: Identify all unique sub-feature for each feature (ex: all unique cast members in the cast category)\n",
    "#### Organize sub-features to lowest-rating association to highest-rating association\n",
    "By organizing features in this order, the numerical representation will then also describe the quality of features associated with the movie\n",
    "- higher quality feature values should correlate with higher-rated movies, and vice versa"
   ]
  },
  {
   "cell_type": "code",
   "execution_count": 129,
   "metadata": {
    "collapsed": true
   },
   "outputs": [],
   "source": [
    "def generate_list(df, feature_name): #create a list of all unique feature values\n",
    "    #Step 1: track all ratings associated with each feature in a dictionary\n",
    "    feature_dict = {}\n",
    "    for index, row in df.iterrows():\n",
    "        feat = row[feature_name]\n",
    "        for sub_feat in feat:\n",
    "            if sub_feat not in feature_dict:\n",
    "                feature_dict[sub_feat] = (df['vote_average'][index], 1) #\n",
    "            else:\n",
    "                feature_dict[sub_feat] = (feature_dict[sub_feat][0] + (df['vote_average'][index]), feature_dict[sub_feat][1] + 1)\n",
    "    #Step 2: calculate average ratings for each feature\n",
    "    for key in feature_dict:\n",
    "        feature_dict[key] = feature_dict[key][0]/feature_dict[key][1] #average of all vote_averages\n",
    "       \n",
    "    #Step 3: create and sort a list of tuples (dictionary value, key)\n",
    "    lst = list()\n",
    "    for name in feature_dict:\n",
    "        lst.append((feature_dict[name],name))\n",
    "    lst = sorted(lst)\n",
    "    #step 4: create a list of only the feature names, from lowest rating to highest rating\n",
    "    feature_list = list()\n",
    "    ratings_list = list()\n",
    "    for element in lst:\n",
    "        feature_list.append(element[1])\n",
    "        ratings_list.append(element[0])\n",
    "    \n",
    "    #get the variance of the ratings. This is helpful for determining the usefulness of the information (to be displayed in below plot)\n",
    "    var = round(np.var(ratings_list),3)\n",
    "    \n",
    "    #before returning the list, do a quick visualization to show that generate_list works\n",
    "    fig, ax = plt.subplots(figsize=(6,5))\n",
    "    if feature_name != 'genres':\n",
    "        n = 50 # sample at intervals of n\n",
    "    else:\n",
    "        n = 1\n",
    "    X = [] #sample for associated movie(s) rating average\n",
    "    Y = [] #sample for feature names\n",
    "    for i in range(0, len(feature_list) - 1, n):\n",
    "        X.append(ratings_list[i])\n",
    "        Y.append(feature_list[i])\n",
    "    \n",
    "    y_pos = np.arange(len(Y))\n",
    "    ax.barh(y_pos, X, align='center')\n",
    "    #ax.set_yticklabels(Y)\n",
    "    ax.invert_yaxis()  # labels read top-to-bottom\n",
    "    \n",
    "    ax.set_xlabel('Overall average movie ratings')\n",
    "    ax.set_ylabel(feature_name + ' sample list index')\n",
    "    ax.set_title(feature_name + ' to associated movie(s) performance (' + str(int(len(feature_list)/n)) + ' samples), variance: ' + str(var))\n",
    "    \n",
    "    plt.show()\n",
    "    \n",
    "    return feature_list\n"
   ]
  },
  {
   "cell_type": "markdown",
   "metadata": {},
   "source": [
    "### Create lists for each feature"
   ]
  },
  {
   "cell_type": "code",
   "execution_count": 130,
   "metadata": {},
   "outputs": [
    {
     "data": {
      "image/png": "[encoded data removed]",
      "text/plain": [
       "<Figure size 432x360 with 1 Axes>"
      ]
     },
     "metadata": {
      "needs_background": "light"
     },
     "output_type": "display_data"
    }
   ],
   "source": [
    "genres_list = generate_list(movies_shortened, 'genres')"
   ]
  },
  {
   "cell_type": "code",
   "execution_count": 131,
   "metadata": {},
   "outputs": [
    {
     "data": {
      "image/png": "[encoded data removed]",
      "text/plain": [
       "<Figure size 432x360 with 1 Axes>"
      ]
     },
     "metadata": {
      "needs_background": "light"
     },
     "output_type": "display_data"
    }
   ],
   "source": [
    "cast_list = generate_list(movies_shortened, 'cast')"
   ]
  },
  {
   "cell_type": "code",
   "execution_count": 132,
   "metadata": {},
   "outputs": [
    {
     "data": {
      "image/png": "[encoded data removed]",
      "text/plain": [
       "<Figure size 432x360 with 1 Axes>"
      ]
     },
     "metadata": {
      "needs_background": "light"
     },
     "output_type": "display_data"
    }
   ],
   "source": [
    "crew_list = generate_list(movies_shortened, 'crew')"
   ]
  },
  {
   "cell_type": "code",
   "execution_count": 133,
   "metadata": {},
   "outputs": [
    {
     "data": {
      "image/png": "[encoded data removed]",
      "text/plain": [
       "<Figure size 432x360 with 1 Axes>"
      ]
     },
     "metadata": {
      "needs_background": "light"
     },
     "output_type": "display_data"
    }
   ],
   "source": [
    "prod_companies_list = generate_list(movies_shortened, 'production_companies')"
   ]
  },
  {
   "cell_type": "code",
   "execution_count": 134,
   "metadata": {},
   "outputs": [
    {
     "data": {
      "image/png": "[encoded data removed]",
      "text/plain": [
       "<Figure size 432x360 with 1 Axes>"
      ]
     },
     "metadata": {
      "needs_background": "light"
     },
     "output_type": "display_data"
    }
   ],
   "source": [
    "keywords_list = generate_list(movies_shortened, 'keywords')"
   ]
  },
  {
   "cell_type": "markdown",
   "metadata": {},
   "source": [
    "### Analysis\n",
    "\n",
    "Most of the features show some variance except genra so lets drop genre from movies_shortened\n"
   ]
  },
  {
   "cell_type": "code",
   "execution_count": 135,
   "metadata": {
    "collapsed": true
   },
   "outputs": [],
   "source": [
    "movies_shortened = movies_shortened[['id', 'original_title', 'cast', 'crew', 'production_companies', 'keywords','vote_average']]"
   ]
  },
  {
   "cell_type": "markdown",
   "metadata": {},
   "source": [
    "### Step 2: Create a binary representation for each feature\n",
    "\n",
    "##### Using the lists created, create binary arrays that indicated whether or not feature_name can be found in this movie\n",
    "\n",
    "note: each array represents a feature associated with movies with lowest average ratings to highest average ratings\n",
    "- this is useful because we can use the array as a gauge for how well the features track record in movies are"
   ]
  },
  {
   "cell_type": "code",
   "execution_count": 136,
   "metadata": {
    "collapsed": true
   },
   "outputs": [],
   "source": [
    "def calculate_bin_array(this_list, all_features):\n",
    "    bin_list = []\n",
    "    for element in all_features:\n",
    "        if element in this_list:\n",
    "            bin_list.append(1)\n",
    "        else:\n",
    "            bin_list.append(0)\n",
    "    return bin_list"
   ]
  },
  {
   "cell_type": "code",
   "execution_count": 137,
   "metadata": {
    "collapsed": true
   },
   "outputs": [],
   "source": [
    "movies_shortened['cast'] = movies_shortened['cast'].apply(lambda x: calculate_bin_array(x, cast_list))"
   ]
  },
  {
   "cell_type": "code",
   "execution_count": 138,
   "metadata": {
    "collapsed": true
   },
   "outputs": [],
   "source": [
    "movies_shortened['crew'] = movies_shortened['crew'].apply(lambda x: calculate_bin_array(x, crew_list))"
   ]
  },
  {
   "cell_type": "code",
   "execution_count": 139,
   "metadata": {
    "collapsed": true
   },
   "outputs": [],
   "source": [
    "movies_shortened['production_companies'] = movies_shortened['production_companies'].apply(lambda x: calculate_bin_array(x, prod_companies_list))"
   ]
  },
  {
   "cell_type": "code",
   "execution_count": 140,
   "metadata": {
    "collapsed": true
   },
   "outputs": [],
   "source": [
    "movies_shortened['keywords'] = movies_shortened['keywords'].apply(lambda x: calculate_bin_array(x, keywords_list))"
   ]
  },
  {
   "cell_type": "code",
   "execution_count": 141,
   "metadata": {},
   "outputs": [
    {
     "data": {
      "text/html": [
       "<div>\n",
       "<style scoped>\n",
       "    .dataframe tbody tr th:only-of-type {\n",
       "        vertical-align: middle;\n",
       "    }\n",
       "\n",
       "    .dataframe tbody tr th {\n",
       "        vertical-align: top;\n",
       "    }\n",
       "\n",
       "    .dataframe thead th {\n",
       "        text-align: right;\n",
       "    }\n",
       "</style>\n",
       "<table border=\"1\" class=\"dataframe\">\n",
       "  <thead>\n",
       "    <tr style=\"text-align: right;\">\n",
       "      <th></th>\n",
       "      <th>id</th>\n",
       "      <th>original_title</th>\n",
       "      <th>cast</th>\n",
       "      <th>crew</th>\n",
       "      <th>production_companies</th>\n",
       "      <th>keywords</th>\n",
       "      <th>vote_average</th>\n",
       "    </tr>\n",
       "  </thead>\n",
       "  <tbody>\n",
       "    <tr>\n",
       "      <th>4260</th>\n",
       "      <td>44413</td>\n",
       "      <td>La niña santa</td>\n",
       "      <td>[0, 0, 0, 0, 0, 0, 0, 0, 0, 0, 0, 0, 0, 0, 0, ...</td>\n",
       "      <td>[0, 0, 0, 0, 0, 0, 0, 0, 0, 0, 0, 0, 0, 0, 0, ...</td>\n",
       "      <td>[0, 0, 0, 0, 0, 0, 0, 0, 0, 0, 0, 0, 0, 0, 0, ...</td>\n",
       "      <td>[0, 0, 0, 0, 0, 0, 0, 0, 0, 0, 0, 0, 0, 0, 0, ...</td>\n",
       "      <td>6.8</td>\n",
       "    </tr>\n",
       "    <tr>\n",
       "      <th>4701</th>\n",
       "      <td>5822</td>\n",
       "      <td>Sweet Sweetback's Baadasssss Song</td>\n",
       "      <td>[0, 0, 0, 0, 0, 0, 0, 0, 0, 0, 0, 0, 0, 0, 0, ...</td>\n",
       "      <td>[0, 0, 0, 0, 0, 0, 0, 0, 0, 0, 0, 0, 0, 0, 0, ...</td>\n",
       "      <td>[0, 0, 0, 0, 0, 0, 0, 0, 0, 0, 0, 0, 0, 0, 0, ...</td>\n",
       "      <td>[0, 0, 0, 0, 0, 0, 0, 0, 0, 0, 0, 0, 0, 0, 0, ...</td>\n",
       "      <td>4.6</td>\n",
       "    </tr>\n",
       "    <tr>\n",
       "      <th>4257</th>\n",
       "      <td>301325</td>\n",
       "      <td>#Horror</td>\n",
       "      <td>[0, 0, 0, 0, 0, 0, 0, 0, 0, 0, 0, 0, 0, 0, 0, ...</td>\n",
       "      <td>[0, 0, 0, 0, 0, 0, 0, 0, 0, 0, 0, 0, 0, 0, 0, ...</td>\n",
       "      <td>[0, 0, 0, 0, 0, 0, 0, 0, 0, 0, 0, 0, 0, 0, 0, ...</td>\n",
       "      <td>[0, 0, 0, 0, 0, 0, 0, 0, 0, 0, 0, 0, 0, 0, 0, ...</td>\n",
       "      <td>3.3</td>\n",
       "    </tr>\n",
       "    <tr>\n",
       "      <th>1141</th>\n",
       "      <td>65</td>\n",
       "      <td>8 Mile</td>\n",
       "      <td>[0, 0, 0, 0, 0, 0, 0, 0, 0, 0, 0, 0, 0, 0, 0, ...</td>\n",
       "      <td>[0, 0, 0, 0, 0, 0, 0, 0, 0, 0, 0, 0, 0, 0, 0, ...</td>\n",
       "      <td>[0, 0, 0, 0, 0, 0, 0, 0, 0, 0, 0, 0, 0, 0, 0, ...</td>\n",
       "      <td>[0, 0, 0, 0, 0, 0, 0, 0, 0, 0, 0, 0, 0, 0, 0, ...</td>\n",
       "      <td>6.8</td>\n",
       "    </tr>\n",
       "    <tr>\n",
       "      <th>2846</th>\n",
       "      <td>14191</td>\n",
       "      <td>Aquamarine</td>\n",
       "      <td>[0, 0, 0, 0, 0, 0, 0, 0, 0, 0, 0, 0, 0, 0, 0, ...</td>\n",
       "      <td>[0, 0, 0, 0, 0, 0, 0, 0, 0, 0, 0, 0, 0, 0, 0, ...</td>\n",
       "      <td>[0, 0, 0, 0, 0, 0, 0, 0, 0, 0, 0, 0, 0, 0, 0, ...</td>\n",
       "      <td>[0, 0, 0, 0, 0, 0, 0, 0, 0, 0, 0, 0, 0, 0, 0, ...</td>\n",
       "      <td>5.8</td>\n",
       "    </tr>\n",
       "  </tbody>\n",
       "</table>\n",
       "</div>"
      ],
      "text/plain": [
       "          id                     original_title  \\\n",
       "4260   44413                      La niña santa   \n",
       "4701    5822  Sweet Sweetback's Baadasssss Song   \n",
       "4257  301325                            #Horror   \n",
       "1141      65                             8 Mile   \n",
       "2846   14191                         Aquamarine   \n",
       "\n",
       "                                                   cast  \\\n",
       "4260  [0, 0, 0, 0, 0, 0, 0, 0, 0, 0, 0, 0, 0, 0, 0, ...   \n",
       "4701  [0, 0, 0, 0, 0, 0, 0, 0, 0, 0, 0, 0, 0, 0, 0, ...   \n",
       "4257  [0, 0, 0, 0, 0, 0, 0, 0, 0, 0, 0, 0, 0, 0, 0, ...   \n",
       "1141  [0, 0, 0, 0, 0, 0, 0, 0, 0, 0, 0, 0, 0, 0, 0, ...   \n",
       "2846  [0, 0, 0, 0, 0, 0, 0, 0, 0, 0, 0, 0, 0, 0, 0, ...   \n",
       "\n",
       "                                                   crew  \\\n",
       "4260  [0, 0, 0, 0, 0, 0, 0, 0, 0, 0, 0, 0, 0, 0, 0, ...   \n",
       "4701  [0, 0, 0, 0, 0, 0, 0, 0, 0, 0, 0, 0, 0, 0, 0, ...   \n",
       "4257  [0, 0, 0, 0, 0, 0, 0, 0, 0, 0, 0, 0, 0, 0, 0, ...   \n",
       "1141  [0, 0, 0, 0, 0, 0, 0, 0, 0, 0, 0, 0, 0, 0, 0, ...   \n",
       "2846  [0, 0, 0, 0, 0, 0, 0, 0, 0, 0, 0, 0, 0, 0, 0, ...   \n",
       "\n",
       "                                   production_companies  \\\n",
       "4260  [0, 0, 0, 0, 0, 0, 0, 0, 0, 0, 0, 0, 0, 0, 0, ...   \n",
       "4701  [0, 0, 0, 0, 0, 0, 0, 0, 0, 0, 0, 0, 0, 0, 0, ...   \n",
       "4257  [0, 0, 0, 0, 0, 0, 0, 0, 0, 0, 0, 0, 0, 0, 0, ...   \n",
       "1141  [0, 0, 0, 0, 0, 0, 0, 0, 0, 0, 0, 0, 0, 0, 0, ...   \n",
       "2846  [0, 0, 0, 0, 0, 0, 0, 0, 0, 0, 0, 0, 0, 0, 0, ...   \n",
       "\n",
       "                                               keywords  vote_average  \n",
       "4260  [0, 0, 0, 0, 0, 0, 0, 0, 0, 0, 0, 0, 0, 0, 0, ...           6.8  \n",
       "4701  [0, 0, 0, 0, 0, 0, 0, 0, 0, 0, 0, 0, 0, 0, 0, ...           4.6  \n",
       "4257  [0, 0, 0, 0, 0, 0, 0, 0, 0, 0, 0, 0, 0, 0, 0, ...           3.3  \n",
       "1141  [0, 0, 0, 0, 0, 0, 0, 0, 0, 0, 0, 0, 0, 0, 0, ...           6.8  \n",
       "2846  [0, 0, 0, 0, 0, 0, 0, 0, 0, 0, 0, 0, 0, 0, 0, ...           5.8  "
      ]
     },
     "execution_count": 141,
     "metadata": {},
     "output_type": "execute_result"
    }
   ],
   "source": [
    "movies_shortened.sample(5)"
   ]
  },
  {
   "cell_type": "markdown",
   "metadata": {},
   "source": [
    "### Look at distribution of 1's in a number-line format"
   ]
  },
  {
   "cell_type": "code",
   "execution_count": 142,
   "metadata": {
    "collapsed": true
   },
   "outputs": [],
   "source": [
    "def plot_bin(mov):\n",
    "    cast_bin = mov[2]\n",
    "    cast_index = []\n",
    "    # create arrays of indeces where bin number is one\n",
    "    for i in range(len(cast_bin)):\n",
    "        if cast_bin[i] == 1:\n",
    "            cast_index.append(i)\n",
    "    \n",
    "    crew_bin = mov[3]\n",
    "    crew_index = []\n",
    "    for i in range(len(crew_bin)):\n",
    "        if crew_bin[i] == 1:\n",
    "            crew_index.append(i)\n",
    "    \n",
    "    prod_bin = mov[4]\n",
    "    prod_index = []\n",
    "    for i in range(len(prod_bin)):\n",
    "        if prod_bin[i] == 1:\n",
    "            prod_index.append(i)\n",
    "    \n",
    "    keywords_bin = mov[5]\n",
    "    keywords_index = []\n",
    "    for i in range(len(keywords_bin)):\n",
    "        if keywords_bin[i] == 1:\n",
    "            keywords_index.append(i)\n",
    "    \n",
    "    font = {'family': 'serif',\n",
    "        'color':  'red',\n",
    "        'weight': 'normal',\n",
    "        'size': 10,\n",
    "        }\n",
    "    \n",
    "    fig, ax = plt.subplots(4,1,figsize=(5,1))\n",
    "    plt.subplots_adjust(hspace = 5)\n",
    "    ax[0].scatter(cast_index, np.zeros_like(cast_index), vmin=-2)\n",
    "    ax[0].set_title('Cast', loc = 'left', fontdict=font)\n",
    "    ax[0].set_xlim(0,len(cast_bin))\n",
    "    ax[0].set_yticks([])\n",
    "    ax[0].set_xticks([])\n",
    "    \n",
    "    ax[1].scatter(crew_index, np.zeros_like(crew_index), vmin=-2)\n",
    "    ax[1].set_title('Crew', loc = 'left', fontdict=font)\n",
    "    ax[1].set_xlim(0,len(crew_bin))\n",
    "    ax[1].set_yticks([])\n",
    "    ax[1].set_xticks([])\n",
    "    \n",
    "    ax[2].scatter(prod_index, np.zeros_like(prod_index), vmin=-2)\n",
    "    ax[2].set_title('Production companies', loc = 'left', fontdict=font)\n",
    "    ax[2].set_xlim(0,len(prod_bin))\n",
    "    ax[2].set_yticks([])\n",
    "    ax[2].set_xticks([])\n",
    "    \n",
    "    ax[3].scatter(keywords_index, np.zeros_like(keywords_index), vmin=-2)\n",
    "    ax[3].set_title('Keywords', loc = 'left', fontdict=font)\n",
    "    ax[3].set_xlim(0,len(keywords_bin))\n",
    "    ax[3].set_yticks([])\n",
    "    ax[3].set_xticks([])\n"
   ]
  },
  {
   "cell_type": "code",
   "execution_count": 143,
   "metadata": {
    "collapsed": true
   },
   "outputs": [],
   "source": [
    "movies_sample = movies_shortened.sample(5)"
   ]
  },
  {
   "cell_type": "code",
   "execution_count": 144,
   "metadata": {},
   "outputs": [
    {
     "name": "stdout",
     "output_type": "stream",
     "text": [
      "Movie: Peggy Sue Got Married\n",
      "Rating: 5.9\n",
      "\n"
     ]
    },
    {
     "data": {
      "image/png": "[encoded data removed]",
      "text/plain": [
       "<Figure size 360x72 with 4 Axes>"
      ]
     },
     "metadata": {},
     "output_type": "display_data"
    }
   ],
   "source": [
    "print('Movie: ' + movies_sample.iloc[0][1] + '\\nRating: ' + str(movies_sample.iloc[0][-1]) + '\\n')\n",
    "plot_bin(movies_sample.iloc[0])"
   ]
  },
  {
   "cell_type": "code",
   "execution_count": 145,
   "metadata": {},
   "outputs": [
    {
     "name": "stdout",
     "output_type": "stream",
     "text": [
      "Movie:The Taking of Pelham 1 2 3\n",
      "Rating: 6.2\n",
      "\n"
     ]
    },
    {
     "data": {
      "image/png": "[encoded data removed]",
      "text/plain": [
       "<Figure size 360x72 with 4 Axes>"
      ]
     },
     "metadata": {},
     "output_type": "display_data"
    }
   ],
   "source": [
    "print('Movie:' + movies_sample.iloc[1][1] + '\\nRating: ' + str(movies_sample.iloc[1][-1]) + '\\n')\n",
    "plot_bin(movies_sample.iloc[1])"
   ]
  },
  {
   "cell_type": "code",
   "execution_count": 146,
   "metadata": {},
   "outputs": [
    {
     "name": "stdout",
     "output_type": "stream",
     "text": [
      "Movie:Young Frankenstein\n",
      "Rating: 7.7\n",
      "\n"
     ]
    },
    {
     "data": {
      "image/png": "[encoded data removed]",
      "text/plain": [
       "<Figure size 360x72 with 4 Axes>"
      ]
     },
     "metadata": {},
     "output_type": "display_data"
    }
   ],
   "source": [
    "print('Movie:' + movies_sample.iloc[2][1] + '\\nRating: ' + str(movies_sample.iloc[2][-1]) + '\\n')\n",
    "plot_bin(movies_sample.iloc[2])"
   ]
  },
  {
   "cell_type": "code",
   "execution_count": 147,
   "metadata": {},
   "outputs": [
    {
     "name": "stdout",
     "output_type": "stream",
     "text": [
      "Movie:Imagine Me & You\n",
      "Rating: 7.0\n",
      "\n"
     ]
    },
    {
     "data": {
      "image/png": "[encoded data removed]",
      "text/plain": [
       "<Figure size 360x72 with 4 Axes>"
      ]
     },
     "metadata": {},
     "output_type": "display_data"
    }
   ],
   "source": [
    "print('Movie:' + movies_sample.iloc[3][1] + '\\nRating: ' + str(movies_sample.iloc[3][-1]) + '\\n')\n",
    "plot_bin(movies_sample.iloc[3])"
   ]
  },
  {
   "cell_type": "code",
   "execution_count": 148,
   "metadata": {},
   "outputs": [
    {
     "name": "stdout",
     "output_type": "stream",
     "text": [
      "Movie:Unbreakable\n",
      "Rating: 6.9\n",
      "\n"
     ]
    },
    {
     "data": {
      "image/png": "[encoded data removed]",
      "text/plain": [
       "<Figure size 360x72 with 4 Axes>"
      ]
     },
     "metadata": {},
     "output_type": "display_data"
    }
   ],
   "source": [
    "print('Movie:' + movies_sample.iloc[4][1] + '\\nRating: ' + str(movies_sample.iloc[4][-1]) + '\\n')\n",
    "plot_bin(movies_sample.iloc[4])"
   ]
  },
  {
   "cell_type": "markdown",
   "metadata": {},
   "source": [
    "#### Analysis\n",
    " - Movies with lower ratings have features leaning towards the left, while movies with higher ratings have features leaning to the right. \n",
    " - This shows that there's a relationship between features and ratings if feature names is organized from lowest movie rating associations to highest movie rating associations"
   ]
  },
  {
   "cell_type": "markdown",
   "metadata": {},
   "source": [
    "### Step 3: Find concentration points in each array\n",
    "Find areas where numbers are grouped, and identify points that resemble the centers of binary distribution\n",
    "\n",
    "    Generic example: [1110001111100101] -> [0300000050000020] -> [(1,3), (8,5), (14,2)] tuple[0] is the index of concentration, tuple[1] is the number of 1's about index"
   ]
  },
  {
   "cell_type": "code",
   "execution_count": 149,
   "metadata": {
    "collapsed": true
   },
   "outputs": [],
   "source": [
    "def split_arr(arr, n_splits): \n",
    "      \n",
    "    # looping till length l \n",
    "    for i in range(0, len(arr), n_splits):  \n",
    "        yield arr[i:i + n_splits] \n",
    "\n",
    "def find_concentration(arr, n = 100): # n is the number of concentration points to find\n",
    "    #seperate array into batches\n",
    "    batches = list(split_arr(arr,int(len(arr)/n)))\n",
    "    concentrations = []\n",
    "    for i in range(len(batches)):\n",
    "        point = 0\n",
    "        num_ones = 0\n",
    "        for j in range(len(batches[i])):\n",
    "            if batches[i][j] == 1:\n",
    "                point += j + (i * int(len(arr)/n)) # adding correction for batches\n",
    "                num_ones += 1\n",
    "        if num_ones > 0:\n",
    "            point = point/num_ones\n",
    "            concentrations.append((point,num_ones))\n",
    "    return concentrations"
   ]
  },
  {
   "cell_type": "code",
   "execution_count": 150,
   "metadata": {
    "collapsed": true
   },
   "outputs": [],
   "source": [
    "def to_concentrations(df, feature_names):\n",
    "    for feature_name in feature_names:\n",
    "        print('feature: ', feature_name)\n",
    "        df[feature_name] = df[feature_name].apply(lambda x: find_concentration(x))\n",
    "    return df"
   ]
  },
  {
   "cell_type": "code",
   "execution_count": 151,
   "metadata": {},
   "outputs": [
    {
     "name": "stdout",
     "output_type": "stream",
     "text": [
      "feature:  cast\n",
      "feature:  crew\n",
      "feature:  production_companies\n",
      "feature:  keywords\n"
     ]
    }
   ],
   "source": [
    "movies_shortened = to_concentrations(movies_shortened, ['cast', 'crew', 'production_companies', 'keywords'])"
   ]
  },
  {
   "cell_type": "code",
   "execution_count": 152,
   "metadata": {},
   "outputs": [
    {
     "data": {
      "text/html": [
       "<div>\n",
       "<style scoped>\n",
       "    .dataframe tbody tr th:only-of-type {\n",
       "        vertical-align: middle;\n",
       "    }\n",
       "\n",
       "    .dataframe tbody tr th {\n",
       "        vertical-align: top;\n",
       "    }\n",
       "\n",
       "    .dataframe thead th {\n",
       "        text-align: right;\n",
       "    }\n",
       "</style>\n",
       "<table border=\"1\" class=\"dataframe\">\n",
       "  <thead>\n",
       "    <tr style=\"text-align: right;\">\n",
       "      <th></th>\n",
       "      <th>id</th>\n",
       "      <th>original_title</th>\n",
       "      <th>cast</th>\n",
       "      <th>crew</th>\n",
       "      <th>production_companies</th>\n",
       "      <th>keywords</th>\n",
       "      <th>vote_average</th>\n",
       "    </tr>\n",
       "  </thead>\n",
       "  <tbody>\n",
       "    <tr>\n",
       "      <th>851</th>\n",
       "      <td>9566</td>\n",
       "      <td>The Fan</td>\n",
       "      <td>[(3065.0, 1), (3414.0, 1), (5146.0, 1), (5576....</td>\n",
       "      <td>[(3331.0, 1), (6281.0, 1), (8155.0, 1), (8336....</td>\n",
       "      <td>[(1644.0, 1), (2097.0, 1)]</td>\n",
       "      <td>[(1334.6666666666667, 3), (1444.0, 1), (1465.0...</td>\n",
       "      <td>5.7</td>\n",
       "    </tr>\n",
       "    <tr>\n",
       "      <th>4711</th>\n",
       "      <td>178862</td>\n",
       "      <td>Aroused</td>\n",
       "      <td>[(8155.666666666667, 3), (8215.5, 2)]</td>\n",
       "      <td>[(12087.25, 4), (12202.5, 4)]</td>\n",
       "      <td>[(4337.0, 1)]</td>\n",
       "      <td>[(2164.0, 1), (2987.0, 1), (3019.0, 1), (4672....</td>\n",
       "      <td>7.2</td>\n",
       "    </tr>\n",
       "    <tr>\n",
       "      <th>3296</th>\n",
       "      <td>149</td>\n",
       "      <td>アキラ</td>\n",
       "      <td>[(9045.4, 5)]</td>\n",
       "      <td>[(12268.0, 1), (13295.0, 7)]</td>\n",
       "      <td>[(3828.0, 1), (4021.0, 1), (4156.0, 1), (4841....</td>\n",
       "      <td>[(1849.0, 1), (3065.0, 1), (3638.0, 1), (4155....</td>\n",
       "      <td>7.8</td>\n",
       "    </tr>\n",
       "    <tr>\n",
       "      <th>3641</th>\n",
       "      <td>14474</td>\n",
       "      <td>The Oh in Ohio</td>\n",
       "      <td>[(727.0, 1), (2845.0, 1), (2979.0, 1), (3403.0...</td>\n",
       "      <td>[(3834.5, 2), (4150.0, 1)]</td>\n",
       "      <td>[(1265.0, 1), (2094.0, 1), (2158.0, 1), (2444....</td>\n",
       "      <td>[(385.0, 1), (820.0, 1), (2489.0, 1), (2679.0,...</td>\n",
       "      <td>5.8</td>\n",
       "    </tr>\n",
       "    <tr>\n",
       "      <th>394</th>\n",
       "      <td>59108</td>\n",
       "      <td>Tower Heist</td>\n",
       "      <td>[(2743.0, 1), (3898.5, 2), (4363.5, 2)]</td>\n",
       "      <td>[(1851.0, 1), (3762.0, 1), (5040.0, 1), (6110....</td>\n",
       "      <td>[(1078.0, 1), (1441.0, 1), (2090.0, 1), (2394....</td>\n",
       "      <td>[(1108.0, 1), (1303.0, 1), (1607.0, 2), (1705....</td>\n",
       "      <td>5.8</td>\n",
       "    </tr>\n",
       "    <tr>\n",
       "      <th>3462</th>\n",
       "      <td>14144</td>\n",
       "      <td>Daddy Day Camp</td>\n",
       "      <td>[(500.6666666666667, 3), (935.0, 1), (3446.0, 1)]</td>\n",
       "      <td>[(582.0, 2), (2127.0, 1), (2382.0, 1)]</td>\n",
       "      <td>[(941.0, 1), (2097.0, 1)]</td>\n",
       "      <td>[(840.0, 1), (1258.0, 1), (2499.0, 1), (3015.0...</td>\n",
       "      <td>4.4</td>\n",
       "    </tr>\n",
       "    <tr>\n",
       "      <th>2671</th>\n",
       "      <td>2604</td>\n",
       "      <td>Born on the Fourth of July</td>\n",
       "      <td>[(4813.5, 2), (6432.0, 1), (6583.0, 1), (6642....</td>\n",
       "      <td>[(4374.0, 1), (5613.0, 1), (7716.0, 1), (8285....</td>\n",
       "      <td>[(2394.0, 1), (3160.0, 1)]</td>\n",
       "      <td>[(3220.0, 2), (4804.0, 1), (5330.0, 1), (5549....</td>\n",
       "      <td>6.7</td>\n",
       "    </tr>\n",
       "    <tr>\n",
       "      <th>3913</th>\n",
       "      <td>22013</td>\n",
       "      <td>Elmer Gantry</td>\n",
       "      <td>[(6108.0, 1), (8058.0, 1), (8298.0, 1), (8427....</td>\n",
       "      <td>[(9707.0, 1), (12345.5, 4), (12513.0, 1), (128...</td>\n",
       "      <td>[(3421.0, 1)]</td>\n",
       "      <td>[(8702.0, 1), (8796.0, 1)]</td>\n",
       "      <td>7.3</td>\n",
       "    </tr>\n",
       "    <tr>\n",
       "      <th>958</th>\n",
       "      <td>2116</td>\n",
       "      <td>Out of Time</td>\n",
       "      <td>[(2605.0, 1), (3025.0, 1), (5569.0, 1), (6128....</td>\n",
       "      <td>[(3247.0, 1), (3667.0, 1), (4814.0, 1), (4930....</td>\n",
       "      <td>[(1434.0, 1), (1922.0, 1), (2024.0, 1)]</td>\n",
       "      <td>[(2997.0, 1), (3092.0, 1), (4345.0, 1), (5563....</td>\n",
       "      <td>6.1</td>\n",
       "    </tr>\n",
       "    <tr>\n",
       "      <th>1742</th>\n",
       "      <td>254473</td>\n",
       "      <td>Brick Mansions</td>\n",
       "      <td>[(1231.0, 1), (2380.0, 1), (2527.0, 1), (4010....</td>\n",
       "      <td>[(2848.0, 1), (3353.0, 1), (3429.6666666666665...</td>\n",
       "      <td>[(1136.0, 1), (2149.0, 1), (2405.0, 1), (2916....</td>\n",
       "      <td>[(848.0, 1), (1535.0, 1), (2564.0, 1), (2859.0...</td>\n",
       "      <td>5.7</td>\n",
       "    </tr>\n",
       "  </tbody>\n",
       "</table>\n",
       "</div>"
      ],
      "text/plain": [
       "          id              original_title  \\\n",
       "851     9566                     The Fan   \n",
       "4711  178862                     Aroused   \n",
       "3296     149                         アキラ   \n",
       "3641   14474              The Oh in Ohio   \n",
       "394    59108                 Tower Heist   \n",
       "3462   14144              Daddy Day Camp   \n",
       "2671    2604  Born on the Fourth of July   \n",
       "3913   22013                Elmer Gantry   \n",
       "958     2116                 Out of Time   \n",
       "1742  254473              Brick Mansions   \n",
       "\n",
       "                                                   cast  \\\n",
       "851   [(3065.0, 1), (3414.0, 1), (5146.0, 1), (5576....   \n",
       "4711              [(8155.666666666667, 3), (8215.5, 2)]   \n",
       "3296                                      [(9045.4, 5)]   \n",
       "3641  [(727.0, 1), (2845.0, 1), (2979.0, 1), (3403.0...   \n",
       "394             [(2743.0, 1), (3898.5, 2), (4363.5, 2)]   \n",
       "3462  [(500.6666666666667, 3), (935.0, 1), (3446.0, 1)]   \n",
       "2671  [(4813.5, 2), (6432.0, 1), (6583.0, 1), (6642....   \n",
       "3913  [(6108.0, 1), (8058.0, 1), (8298.0, 1), (8427....   \n",
       "958   [(2605.0, 1), (3025.0, 1), (5569.0, 1), (6128....   \n",
       "1742  [(1231.0, 1), (2380.0, 1), (2527.0, 1), (4010....   \n",
       "\n",
       "                                                   crew  \\\n",
       "851   [(3331.0, 1), (6281.0, 1), (8155.0, 1), (8336....   \n",
       "4711                      [(12087.25, 4), (12202.5, 4)]   \n",
       "3296                       [(12268.0, 1), (13295.0, 7)]   \n",
       "3641                         [(3834.5, 2), (4150.0, 1)]   \n",
       "394   [(1851.0, 1), (3762.0, 1), (5040.0, 1), (6110....   \n",
       "3462             [(582.0, 2), (2127.0, 1), (2382.0, 1)]   \n",
       "2671  [(4374.0, 1), (5613.0, 1), (7716.0, 1), (8285....   \n",
       "3913  [(9707.0, 1), (12345.5, 4), (12513.0, 1), (128...   \n",
       "958   [(3247.0, 1), (3667.0, 1), (4814.0, 1), (4930....   \n",
       "1742  [(2848.0, 1), (3353.0, 1), (3429.6666666666665...   \n",
       "\n",
       "                                   production_companies  \\\n",
       "851                          [(1644.0, 1), (2097.0, 1)]   \n",
       "4711                                      [(4337.0, 1)]   \n",
       "3296  [(3828.0, 1), (4021.0, 1), (4156.0, 1), (4841....   \n",
       "3641  [(1265.0, 1), (2094.0, 1), (2158.0, 1), (2444....   \n",
       "394   [(1078.0, 1), (1441.0, 1), (2090.0, 1), (2394....   \n",
       "3462                          [(941.0, 1), (2097.0, 1)]   \n",
       "2671                         [(2394.0, 1), (3160.0, 1)]   \n",
       "3913                                      [(3421.0, 1)]   \n",
       "958             [(1434.0, 1), (1922.0, 1), (2024.0, 1)]   \n",
       "1742  [(1136.0, 1), (2149.0, 1), (2405.0, 1), (2916....   \n",
       "\n",
       "                                               keywords  vote_average  \n",
       "851   [(1334.6666666666667, 3), (1444.0, 1), (1465.0...           5.7  \n",
       "4711  [(2164.0, 1), (2987.0, 1), (3019.0, 1), (4672....           7.2  \n",
       "3296  [(1849.0, 1), (3065.0, 1), (3638.0, 1), (4155....           7.8  \n",
       "3641  [(385.0, 1), (820.0, 1), (2489.0, 1), (2679.0,...           5.8  \n",
       "394   [(1108.0, 1), (1303.0, 1), (1607.0, 2), (1705....           5.8  \n",
       "3462  [(840.0, 1), (1258.0, 1), (2499.0, 1), (3015.0...           4.4  \n",
       "2671  [(3220.0, 2), (4804.0, 1), (5330.0, 1), (5549....           6.7  \n",
       "3913                         [(8702.0, 1), (8796.0, 1)]           7.3  \n",
       "958   [(2997.0, 1), (3092.0, 1), (4345.0, 1), (5563....           6.1  \n",
       "1742  [(848.0, 1), (1535.0, 1), (2564.0, 1), (2859.0...           5.7  "
      ]
     },
     "execution_count": 152,
     "metadata": {},
     "output_type": "execute_result"
    }
   ],
   "source": [
    "movies_shortened.sample(10)"
   ]
  },
  {
   "cell_type": "markdown",
   "metadata": {},
   "source": [
    "### Step 3.1: Find a decimal value that represents the concentration points\n",
    "The point will represent the weighted average of all points of concentration\n",
    "The weight is the number of ones for each concentration point"
   ]
  },
  {
   "cell_type": "code",
   "execution_count": 153,
   "metadata": {
    "collapsed": true
   },
   "outputs": [],
   "source": [
    "def w_avg(arr):\n",
    "    weight = 0 #weight\n",
    "    s = 0 # position*weight\n",
    "    for element in arr:\n",
    "        s += (element[0] * element[1])\n",
    "        weight += element[1]\n",
    "    return s/weight #weighted average"
   ]
  },
  {
   "cell_type": "code",
   "execution_count": 154,
   "metadata": {
    "collapsed": true
   },
   "outputs": [],
   "source": [
    "def to_weighted_avg(df, feature_names):\n",
    "    for feature_name in feature_names:\n",
    "        print('Current: ', feature_name)\n",
    "        df[feature_name] = df[feature_name].apply(lambda x: w_avg(x))\n",
    "    return df"
   ]
  },
  {
   "cell_type": "code",
   "execution_count": 155,
   "metadata": {},
   "outputs": [
    {
     "name": "stdout",
     "output_type": "stream",
     "text": [
      "Current:  cast\n",
      "Current:  crew\n",
      "Current:  production_companies\n",
      "Current:  keywords\n"
     ]
    }
   ],
   "source": [
    "movies_shortened = to_weighted_avg(movies_shortened, ['cast', 'crew', 'production_companies', 'keywords'])"
   ]
  },
  {
   "cell_type": "code",
   "execution_count": 156,
   "metadata": {
    "collapsed": true
   },
   "outputs": [],
   "source": [
    "movies_shortened['vote_average'] = movies['vote_average']"
   ]
  },
  {
   "cell_type": "code",
   "execution_count": 157,
   "metadata": {},
   "outputs": [
    {
     "data": {
      "text/html": [
       "<div>\n",
       "<style scoped>\n",
       "    .dataframe tbody tr th:only-of-type {\n",
       "        vertical-align: middle;\n",
       "    }\n",
       "\n",
       "    .dataframe tbody tr th {\n",
       "        vertical-align: top;\n",
       "    }\n",
       "\n",
       "    .dataframe thead th {\n",
       "        text-align: right;\n",
       "    }\n",
       "</style>\n",
       "<table border=\"1\" class=\"dataframe\">\n",
       "  <thead>\n",
       "    <tr style=\"text-align: right;\">\n",
       "      <th></th>\n",
       "      <th>id</th>\n",
       "      <th>original_title</th>\n",
       "      <th>cast</th>\n",
       "      <th>crew</th>\n",
       "      <th>production_companies</th>\n",
       "      <th>keywords</th>\n",
       "      <th>vote_average</th>\n",
       "    </tr>\n",
       "  </thead>\n",
       "  <tbody>\n",
       "    <tr>\n",
       "      <th>2231</th>\n",
       "      <td>14220</td>\n",
       "      <td>Strange Wilderness</td>\n",
       "      <td>3043.2</td>\n",
       "      <td>2132.750000</td>\n",
       "      <td>1159.666667</td>\n",
       "      <td>1993.500000</td>\n",
       "      <td>4.7</td>\n",
       "    </tr>\n",
       "    <tr>\n",
       "      <th>848</th>\n",
       "      <td>72197</td>\n",
       "      <td>The Pirates! In an Adventure with Scientists!</td>\n",
       "      <td>4733.6</td>\n",
       "      <td>7843.300000</td>\n",
       "      <td>2402.000000</td>\n",
       "      <td>4555.600000</td>\n",
       "      <td>6.4</td>\n",
       "    </tr>\n",
       "    <tr>\n",
       "      <th>1207</th>\n",
       "      <td>10761</td>\n",
       "      <td>Made of Honor</td>\n",
       "      <td>4552.0</td>\n",
       "      <td>5256.600000</td>\n",
       "      <td>1790.500000</td>\n",
       "      <td>4136.375000</td>\n",
       "      <td>6.0</td>\n",
       "    </tr>\n",
       "    <tr>\n",
       "      <th>2911</th>\n",
       "      <td>927</td>\n",
       "      <td>Gremlins</td>\n",
       "      <td>5969.8</td>\n",
       "      <td>8369.800000</td>\n",
       "      <td>3002.500000</td>\n",
       "      <td>5318.888889</td>\n",
       "      <td>6.9</td>\n",
       "    </tr>\n",
       "    <tr>\n",
       "      <th>2543</th>\n",
       "      <td>2142</td>\n",
       "      <td>Cop Land</td>\n",
       "      <td>4665.8</td>\n",
       "      <td>8561.444444</td>\n",
       "      <td>3290.666667</td>\n",
       "      <td>4008.238095</td>\n",
       "      <td>6.6</td>\n",
       "    </tr>\n",
       "    <tr>\n",
       "      <th>620</th>\n",
       "      <td>9008</td>\n",
       "      <td>The Insider</td>\n",
       "      <td>5213.6</td>\n",
       "      <td>9135.250000</td>\n",
       "      <td>3278.400000</td>\n",
       "      <td>7017.909091</td>\n",
       "      <td>7.3</td>\n",
       "    </tr>\n",
       "    <tr>\n",
       "      <th>2855</th>\n",
       "      <td>46889</td>\n",
       "      <td>Living Out Loud</td>\n",
       "      <td>3837.2</td>\n",
       "      <td>7475.000000</td>\n",
       "      <td>2631.000000</td>\n",
       "      <td>3243.250000</td>\n",
       "      <td>5.3</td>\n",
       "    </tr>\n",
       "    <tr>\n",
       "      <th>3973</th>\n",
       "      <td>44594</td>\n",
       "      <td>Barry Munday</td>\n",
       "      <td>3483.0</td>\n",
       "      <td>6553.333333</td>\n",
       "      <td>2493.000000</td>\n",
       "      <td>4122.600000</td>\n",
       "      <td>6.3</td>\n",
       "    </tr>\n",
       "    <tr>\n",
       "      <th>4667</th>\n",
       "      <td>77332</td>\n",
       "      <td>Urbania</td>\n",
       "      <td>1944.2</td>\n",
       "      <td>1719.000000</td>\n",
       "      <td>1103.000000</td>\n",
       "      <td>1295.000000</td>\n",
       "      <td>5.2</td>\n",
       "    </tr>\n",
       "    <tr>\n",
       "      <th>2196</th>\n",
       "      <td>9414</td>\n",
       "      <td>The Man Who Knew Too Little</td>\n",
       "      <td>4638.0</td>\n",
       "      <td>6771.900000</td>\n",
       "      <td>2599.750000</td>\n",
       "      <td>4490.363636</td>\n",
       "      <td>6.5</td>\n",
       "    </tr>\n",
       "    <tr>\n",
       "      <th>3162</th>\n",
       "      <td>660</td>\n",
       "      <td>Thunderball</td>\n",
       "      <td>5791.6</td>\n",
       "      <td>8910.300000</td>\n",
       "      <td>2286.500000</td>\n",
       "      <td>3943.545455</td>\n",
       "      <td>6.5</td>\n",
       "    </tr>\n",
       "    <tr>\n",
       "      <th>1981</th>\n",
       "      <td>43593</td>\n",
       "      <td>Piranha 3D</td>\n",
       "      <td>2483.0</td>\n",
       "      <td>3876.666667</td>\n",
       "      <td>1540.833333</td>\n",
       "      <td>2334.857143</td>\n",
       "      <td>5.3</td>\n",
       "    </tr>\n",
       "    <tr>\n",
       "      <th>3377</th>\n",
       "      <td>104896</td>\n",
       "      <td>A Dog Of Flanders</td>\n",
       "      <td>3520.4</td>\n",
       "      <td>7931.000000</td>\n",
       "      <td>1103.000000</td>\n",
       "      <td>1295.000000</td>\n",
       "      <td>6.4</td>\n",
       "    </tr>\n",
       "    <tr>\n",
       "      <th>2783</th>\n",
       "      <td>158011</td>\n",
       "      <td>The Call</td>\n",
       "      <td>4288.6</td>\n",
       "      <td>7250.375000</td>\n",
       "      <td>2794.166667</td>\n",
       "      <td>4512.416667</td>\n",
       "      <td>6.6</td>\n",
       "    </tr>\n",
       "    <tr>\n",
       "      <th>4608</th>\n",
       "      <td>11980</td>\n",
       "      <td>The Prophecy</td>\n",
       "      <td>4000.6</td>\n",
       "      <td>7375.428571</td>\n",
       "      <td>1099.000000</td>\n",
       "      <td>4603.000000</td>\n",
       "      <td>6.4</td>\n",
       "    </tr>\n",
       "    <tr>\n",
       "      <th>913</th>\n",
       "      <td>10201</td>\n",
       "      <td>Yes Man</td>\n",
       "      <td>5125.8</td>\n",
       "      <td>7728.900000</td>\n",
       "      <td>3057.750000</td>\n",
       "      <td>3566.000000</td>\n",
       "      <td>6.4</td>\n",
       "    </tr>\n",
       "    <tr>\n",
       "      <th>2662</th>\n",
       "      <td>53457</td>\n",
       "      <td>Elle s'appelait Sarah</td>\n",
       "      <td>7053.8</td>\n",
       "      <td>10688.222222</td>\n",
       "      <td>3705.222222</td>\n",
       "      <td>1295.000000</td>\n",
       "      <td>7.2</td>\n",
       "    </tr>\n",
       "    <tr>\n",
       "      <th>2127</th>\n",
       "      <td>1649</td>\n",
       "      <td>Bill &amp; Ted's Bogus Journey</td>\n",
       "      <td>4196.8</td>\n",
       "      <td>4983.875000</td>\n",
       "      <td>3770.500000</td>\n",
       "      <td>3588.416667</td>\n",
       "      <td>5.9</td>\n",
       "    </tr>\n",
       "    <tr>\n",
       "      <th>1334</th>\n",
       "      <td>23742</td>\n",
       "      <td>Cop Out</td>\n",
       "      <td>2506.2</td>\n",
       "      <td>4999.250000</td>\n",
       "      <td>2634.000000</td>\n",
       "      <td>3341.200000</td>\n",
       "      <td>5.3</td>\n",
       "    </tr>\n",
       "    <tr>\n",
       "      <th>2697</th>\n",
       "      <td>10741</td>\n",
       "      <td>Bobby</td>\n",
       "      <td>4430.4</td>\n",
       "      <td>7455.333333</td>\n",
       "      <td>2790.333333</td>\n",
       "      <td>5286.666667</td>\n",
       "      <td>6.4</td>\n",
       "    </tr>\n",
       "  </tbody>\n",
       "</table>\n",
       "</div>"
      ],
      "text/plain": [
       "          id                                 original_title    cast  \\\n",
       "2231   14220                             Strange Wilderness  3043.2   \n",
       "848    72197  The Pirates! In an Adventure with Scientists!  4733.6   \n",
       "1207   10761                                  Made of Honor  4552.0   \n",
       "2911     927                                       Gremlins  5969.8   \n",
       "2543    2142                                       Cop Land  4665.8   \n",
       "620     9008                                    The Insider  5213.6   \n",
       "2855   46889                                Living Out Loud  3837.2   \n",
       "3973   44594                                   Barry Munday  3483.0   \n",
       "4667   77332                                        Urbania  1944.2   \n",
       "2196    9414                    The Man Who Knew Too Little  4638.0   \n",
       "3162     660                                    Thunderball  5791.6   \n",
       "1981   43593                                     Piranha 3D  2483.0   \n",
       "3377  104896                              A Dog Of Flanders  3520.4   \n",
       "2783  158011                                       The Call  4288.6   \n",
       "4608   11980                                   The Prophecy  4000.6   \n",
       "913    10201                                        Yes Man  5125.8   \n",
       "2662   53457                          Elle s'appelait Sarah  7053.8   \n",
       "2127    1649                     Bill & Ted's Bogus Journey  4196.8   \n",
       "1334   23742                                        Cop Out  2506.2   \n",
       "2697   10741                                          Bobby  4430.4   \n",
       "\n",
       "              crew  production_companies     keywords  vote_average  \n",
       "2231   2132.750000           1159.666667  1993.500000           4.7  \n",
       "848    7843.300000           2402.000000  4555.600000           6.4  \n",
       "1207   5256.600000           1790.500000  4136.375000           6.0  \n",
       "2911   8369.800000           3002.500000  5318.888889           6.9  \n",
       "2543   8561.444444           3290.666667  4008.238095           6.6  \n",
       "620    9135.250000           3278.400000  7017.909091           7.3  \n",
       "2855   7475.000000           2631.000000  3243.250000           5.3  \n",
       "3973   6553.333333           2493.000000  4122.600000           6.3  \n",
       "4667   1719.000000           1103.000000  1295.000000           5.2  \n",
       "2196   6771.900000           2599.750000  4490.363636           6.5  \n",
       "3162   8910.300000           2286.500000  3943.545455           6.5  \n",
       "1981   3876.666667           1540.833333  2334.857143           5.3  \n",
       "3377   7931.000000           1103.000000  1295.000000           6.4  \n",
       "2783   7250.375000           2794.166667  4512.416667           6.6  \n",
       "4608   7375.428571           1099.000000  4603.000000           6.4  \n",
       "913    7728.900000           3057.750000  3566.000000           6.4  \n",
       "2662  10688.222222           3705.222222  1295.000000           7.2  \n",
       "2127   4983.875000           3770.500000  3588.416667           5.9  \n",
       "1334   4999.250000           2634.000000  3341.200000           5.3  \n",
       "2697   7455.333333           2790.333333  5286.666667           6.4  "
      ]
     },
     "execution_count": 157,
     "metadata": {},
     "output_type": "execute_result"
    }
   ],
   "source": [
    "movies_shortened.sample(20)"
   ]
  },
  {
   "cell_type": "markdown",
   "metadata": {},
   "source": [
    "### Step 4: Normalize the features"
   ]
  },
  {
   "cell_type": "markdown",
   "metadata": {},
   "source": [
    "First, make a dataframe to isolate the features"
   ]
  },
  {
   "cell_type": "code",
   "execution_count": 158,
   "metadata": {
    "collapsed": true
   },
   "outputs": [],
   "source": [
    "feat_isolated = movies_shortened[['cast', 'crew', 'production_companies', 'keywords']] #extract only features from df, and scale"
   ]
  },
  {
   "cell_type": "code",
   "execution_count": 159,
   "metadata": {
    "collapsed": true
   },
   "outputs": [],
   "source": [
    "from sklearn.preprocessing import MinMaxScaler\n",
    "scaler = MinMaxScaler()\n",
    "feat_scaled = pd.DataFrame(scaler.fit_transform(feat_isolated.astype(float)))\n",
    "feat_scaled.index = feat_isolated.index\n",
    "feat_scaled.columns = feat_isolated.columns\n",
    "\n",
    "#Seperate dataframe for target\n",
    "target_df = pd.DataFrame()\n",
    "target_df['ratings'] =  movies_shortened['vote_average']"
   ]
  },
  {
   "cell_type": "code",
   "execution_count": 160,
   "metadata": {},
   "outputs": [
    {
     "data": {
      "text/html": [
       "<div>\n",
       "<style scoped>\n",
       "    .dataframe tbody tr th:only-of-type {\n",
       "        vertical-align: middle;\n",
       "    }\n",
       "\n",
       "    .dataframe tbody tr th {\n",
       "        vertical-align: top;\n",
       "    }\n",
       "\n",
       "    .dataframe thead th {\n",
       "        text-align: right;\n",
       "    }\n",
       "</style>\n",
       "<table border=\"1\" class=\"dataframe\">\n",
       "  <thead>\n",
       "    <tr style=\"text-align: right;\">\n",
       "      <th></th>\n",
       "      <th>cast</th>\n",
       "      <th>crew</th>\n",
       "      <th>production_companies</th>\n",
       "      <th>keywords</th>\n",
       "    </tr>\n",
       "  </thead>\n",
       "  <tbody>\n",
       "    <tr>\n",
       "      <th>2978</th>\n",
       "      <td>0.742863</td>\n",
       "      <td>0.584507</td>\n",
       "      <td>0.593224</td>\n",
       "      <td>0.263398</td>\n",
       "    </tr>\n",
       "    <tr>\n",
       "      <th>4103</th>\n",
       "      <td>0.542151</td>\n",
       "      <td>0.560636</td>\n",
       "      <td>0.437249</td>\n",
       "      <td>0.509737</td>\n",
       "    </tr>\n",
       "    <tr>\n",
       "      <th>4592</th>\n",
       "      <td>0.930049</td>\n",
       "      <td>0.937767</td>\n",
       "      <td>0.931736</td>\n",
       "      <td>0.763406</td>\n",
       "    </tr>\n",
       "    <tr>\n",
       "      <th>3812</th>\n",
       "      <td>0.802848</td>\n",
       "      <td>0.839412</td>\n",
       "      <td>0.535585</td>\n",
       "      <td>0.670180</td>\n",
       "    </tr>\n",
       "    <tr>\n",
       "      <th>938</th>\n",
       "      <td>0.478843</td>\n",
       "      <td>0.534042</td>\n",
       "      <td>0.391490</td>\n",
       "      <td>0.437513</td>\n",
       "    </tr>\n",
       "    <tr>\n",
       "      <th>4176</th>\n",
       "      <td>0.314605</td>\n",
       "      <td>0.359605</td>\n",
       "      <td>0.299018</td>\n",
       "      <td>0.365142</td>\n",
       "    </tr>\n",
       "    <tr>\n",
       "      <th>4523</th>\n",
       "      <td>0.540262</td>\n",
       "      <td>0.532688</td>\n",
       "      <td>0.452887</td>\n",
       "      <td>0.394726</td>\n",
       "    </tr>\n",
       "    <tr>\n",
       "      <th>2125</th>\n",
       "      <td>0.295282</td>\n",
       "      <td>0.261838</td>\n",
       "      <td>0.382785</td>\n",
       "      <td>0.232684</td>\n",
       "    </tr>\n",
       "    <tr>\n",
       "      <th>83</th>\n",
       "      <td>0.168820</td>\n",
       "      <td>0.246305</td>\n",
       "      <td>0.088785</td>\n",
       "      <td>0.136306</td>\n",
       "    </tr>\n",
       "    <tr>\n",
       "      <th>1977</th>\n",
       "      <td>0.391872</td>\n",
       "      <td>0.514828</td>\n",
       "      <td>0.452686</td>\n",
       "      <td>0.530566</td>\n",
       "    </tr>\n",
       "  </tbody>\n",
       "</table>\n",
       "</div>"
      ],
      "text/plain": [
       "          cast      crew  production_companies  keywords\n",
       "2978  0.742863  0.584507              0.593224  0.263398\n",
       "4103  0.542151  0.560636              0.437249  0.509737\n",
       "4592  0.930049  0.937767              0.931736  0.763406\n",
       "3812  0.802848  0.839412              0.535585  0.670180\n",
       "938   0.478843  0.534042              0.391490  0.437513\n",
       "4176  0.314605  0.359605              0.299018  0.365142\n",
       "4523  0.540262  0.532688              0.452887  0.394726\n",
       "2125  0.295282  0.261838              0.382785  0.232684\n",
       "83    0.168820  0.246305              0.088785  0.136306\n",
       "1977  0.391872  0.514828              0.452686  0.530566"
      ]
     },
     "execution_count": 160,
     "metadata": {},
     "output_type": "execute_result"
    }
   ],
   "source": [
    "feat_scaled.sample(10)"
   ]
  },
  {
   "cell_type": "markdown",
   "metadata": {},
   "source": [
    "### Visualising Features in a Scatterplot"
   ]
  },
  {
   "cell_type": "code",
   "execution_count": 161,
   "metadata": {},
   "outputs": [
    {
     "data": {
      "text/plain": [
       "Text(0.5, 0.98, \"Corrlation between a movie's features and its rating\")"
      ]
     },
     "execution_count": 161,
     "metadata": {},
     "output_type": "execute_result"
    },
    {
     "data": {
      "image/png": "[encoded data removed]",
      "text/plain": [
       "<Figure size 1728x1440 with 4 Axes>"
      ]
     },
     "metadata": {
      "needs_background": "light"
     },
     "output_type": "display_data"
    }
   ],
   "source": [
    "fig, ax = plt.subplots(2,2, figsize=(24,20))\n",
    "\n",
    "ax[0,0].scatter(target_df['ratings'], feat_scaled['cast'], facecolor='blue')\n",
    "ax[0,0].set_xlabel('rating')\n",
    "ax[0,0].set_ylabel('cast normalized')\n",
    "ax[0,0].set_title('cast')\n",
    "\n",
    "ax[1,0].scatter(target_df['ratings'], feat_scaled['crew'], facecolor='green')\n",
    "ax[1,0].set_xlabel('rating')\n",
    "ax[1,0].set_ylabel('crew normalized')\n",
    "ax[1,0].set_title('crew')\n",
    "\n",
    "ax[0,1].scatter(target_df['ratings'], feat_scaled['production_companies'], facecolor='red')\n",
    "ax[0,1].set_xlabel('rating')\n",
    "ax[0,1].set_ylabel('production companies normalized')\n",
    "ax[0,1].set_title('Production Companies')\n",
    "\n",
    "ax[1,1].scatter(target_df['ratings'], feat_scaled['keywords'], facecolor='orange')\n",
    "ax[1,1].set_xlabel('rating')\n",
    "ax[1,1].set_ylabel('keywords normalized')\n",
    "ax[1,1].set_title('keywords')\n",
    "\n",
    "fig.suptitle(\"Corrlation between a movie's features and its rating\")"
   ]
  },
  {
   "cell_type": "markdown",
   "metadata": {},
   "source": [
    "As you can see, there's a clear correlation between the features and the ratings\n",
    "The straight lines in figures for keywords and production companies represents the absence of keywords and production companies for certain movies"
   ]
  },
  {
   "cell_type": "markdown",
   "metadata": {},
   "source": [
    "### Split Data into testing and training\n",
    "Will be splitting trainting : testing : validation -> (0.7) : (0.15) : (0.15)"
   ]
  },
  {
   "cell_type": "code",
   "execution_count": 162,
   "metadata": {
    "collapsed": true
   },
   "outputs": [],
   "source": [
    "from sklearn.model_selection import train_test_split\n",
    "def train_test_val_split(df_feat, df_target, train_frac):\n",
    "    train_features, test_features, train_target, test_target = train_test_split(df_feat, df_target, test_size = train_frac) #splitting training from rest of the dataset\n",
    "    return (train_features, train_target), (test_features, test_target)"
   ]
  },
  {
   "cell_type": "code",
   "execution_count": 163,
   "metadata": {
    "collapsed": true
   },
   "outputs": [],
   "source": [
    "(features_train, target_train), (features_test, target_test) = train_test_val_split(feat_scaled, target_df,0.7)"
   ]
  },
  {
   "cell_type": "code",
   "execution_count": 164,
   "metadata": {},
   "outputs": [
    {
     "data": {
      "text/html": [
       "<div>\n",
       "<style scoped>\n",
       "    .dataframe tbody tr th:only-of-type {\n",
       "        vertical-align: middle;\n",
       "    }\n",
       "\n",
       "    .dataframe tbody tr th {\n",
       "        vertical-align: top;\n",
       "    }\n",
       "\n",
       "    .dataframe thead th {\n",
       "        text-align: right;\n",
       "    }\n",
       "</style>\n",
       "<table border=\"1\" class=\"dataframe\">\n",
       "  <thead>\n",
       "    <tr style=\"text-align: right;\">\n",
       "      <th></th>\n",
       "      <th>ratings</th>\n",
       "    </tr>\n",
       "  </thead>\n",
       "  <tbody>\n",
       "    <tr>\n",
       "      <th>1758</th>\n",
       "      <td>7.4</td>\n",
       "    </tr>\n",
       "    <tr>\n",
       "      <th>3346</th>\n",
       "      <td>6.0</td>\n",
       "    </tr>\n",
       "    <tr>\n",
       "      <th>1980</th>\n",
       "      <td>5.0</td>\n",
       "    </tr>\n",
       "    <tr>\n",
       "      <th>1060</th>\n",
       "      <td>5.8</td>\n",
       "    </tr>\n",
       "    <tr>\n",
       "      <th>1347</th>\n",
       "      <td>5.8</td>\n",
       "    </tr>\n",
       "  </tbody>\n",
       "</table>\n",
       "</div>"
      ],
      "text/plain": [
       "      ratings\n",
       "1758      7.4\n",
       "3346      6.0\n",
       "1980      5.0\n",
       "1060      5.8\n",
       "1347      5.8"
      ]
     },
     "execution_count": 164,
     "metadata": {},
     "output_type": "execute_result"
    }
   ],
   "source": [
    "target_train.head()"
   ]
  },
  {
   "cell_type": "markdown",
   "metadata": {},
   "source": [
    "## Creating the model"
   ]
  },
  {
   "cell_type": "markdown",
   "metadata": {},
   "source": [
    "#### Import Scikit Learn's [Bayesian Ridge][bayes] Regressor\n",
    "\n",
    "Bayesian ridge is one of many regression models offered by Scikit Learn. I'm choosing this model because it's ideal for dealing with data containing multiple outliers (movies with ratings inconsistent with its features)\n",
    "\n",
    "\n",
    "[//]: # (These are reference links used in the body of this note and get stripped out when the markdown processor does its job. There is no need to format nicely because it shouldn't be seen. Thanks SO - http://stackoverflow.com/questions/4823468/store-comments-in-markdown-syntax)\n",
    "\n",
    "\n",
    "   [bayes]: <https://scikit-learn.org/stable/modules/generated/sklearn.linear_model.BayesianRidge.html#sklearn.linear_model.BayesianRidge>"
   ]
  },
  {
   "cell_type": "code",
   "execution_count": 165,
   "metadata": {
    "collapsed": true
   },
   "outputs": [],
   "source": [
    "from sklearn.linear_model import BayesianRidge"
   ]
  },
  {
   "cell_type": "markdown",
   "metadata": {},
   "source": [
    "#### Create and train model"
   ]
  },
  {
   "cell_type": "code",
   "execution_count": 166,
   "metadata": {},
   "outputs": [
    {
     "data": {
      "text/plain": [
       "BayesianRidge(alpha_1=1e-06, alpha_2=1e-06, compute_score=False, copy_X=True,\n",
       "              fit_intercept=True, lambda_1=1e-06, lambda_2=1e-06, n_iter=300,\n",
       "              normalize=False, tol=0.001, verbose=False)"
      ]
     },
     "execution_count": 166,
     "metadata": {},
     "output_type": "execute_result"
    }
   ],
   "source": [
    "reg = BayesianRidge()\n",
    "reg.fit(features_train.values, target_train)"
   ]
  },
  {
   "cell_type": "markdown",
   "metadata": {},
   "source": [
    "#### Make predictions with features_test"
   ]
  },
  {
   "cell_type": "code",
   "execution_count": 167,
   "metadata": {
    "collapsed": true
   },
   "outputs": [],
   "source": [
    "target_pred = reg.predict(features_test.values)"
   ]
  },
  {
   "cell_type": "markdown",
   "metadata": {},
   "source": [
    "## Evaluation\n",
    "#### Plot predictions vs test ratings"
   ]
  },
  {
   "cell_type": "code",
   "execution_count": 168,
   "metadata": {},
   "outputs": [
    {
     "data": {
      "text/plain": [
       "Text(0.5, 1.0, 'Movie ratings vs Predicted ratings')"
      ]
     },
     "execution_count": 168,
     "metadata": {},
     "output_type": "execute_result"
    },
    {
     "data": {
      "image/png": "[encoded data removed]",
      "text/plain": [
       "<Figure size 432x288 with 1 Axes>"
      ]
     },
     "metadata": {
      "needs_background": "light"
     },
     "output_type": "display_data"
    }
   ],
   "source": [
    "plt.axis([0,10,0,10])\n",
    "plt.scatter(target_test, target_pred)\n",
    "\n",
    "index_arr = [n for n in range(11)]\n",
    "plt.plot(index_arr,'r--')             \n",
    "plt.xlabel(\"Movie Ratings\")\n",
    "plt.ylabel(\"Predicted Ratings\")\n",
    "plt.title(\"Movie ratings vs Predicted ratings\")"
   ]
  },
  {
   "cell_type": "markdown",
   "metadata": {},
   "source": [
    "#### Get R^2 score\n",
    "\n",
    "An [r^2 score][r2] is ideal for regression models because it gauges how well the variance of movie ratings can be explained by the features used (cast, crew, production companies, and keywords)\n",
    "\n",
    "[//]: # (These are reference links used in the body of this note and get stripped out when the markdown processor does its job. There is no need to format nicely because it shouldn't be seen. Thanks SO - http://stackoverflow.com/questions/4823468/store-comments-in-markdown-syntax)\n",
    "\n",
    "\n",
    "   [r2]: <https://scikit-learn.org/stable/modules/generated/sklearn.metrics.r2_score.html>\n"
   ]
  },
  {
   "cell_type": "code",
   "execution_count": 169,
   "metadata": {},
   "outputs": [
    {
     "name": "stdout",
     "output_type": "stream",
     "text": [
      "R^2 Score for predictions: 0.7998191339103948\n"
     ]
    }
   ],
   "source": [
    "from sklearn.metrics import r2_score\n",
    "\n",
    "score = r2_score(target_test, target_pred)\n",
    "\n",
    "print(\"R^2 Score for predictions:\", score)"
   ]
  },
  {
   "cell_type": "markdown",
   "metadata": {},
   "source": [
    "## Conclusion\n",
    "\n",
    "Though 0.7997 shows that the variance of ratings in can be explained by movie features, Although its not very high.\n",
    "    "
   ]
  },
  {
   "cell_type": "markdown",
   "metadata": {},
   "source": [
    "# **Now making a recommendation engine**\n",
    "Making recommendation based on plot\n"
   ]
  },
  {
   "cell_type": "code",
   "execution_count": 182,
   "metadata": {
    "collapsed": true
   },
   "outputs": [],
   "source": [
    "movie = pd.read_csv(\"../input/tmdb-movie-metadata/tmdb_5000_movies.csv\")\n",
    "credit = pd.read_csv(\"../input/tmdb-movie-metadata/tmdb_5000_credits.csv\")\n",
    "credit.columns = ['id','tittle','cast','crew']\n",
    "movies = movie.merge(credit,on='id')"
   ]
  },
  {
   "cell_type": "code",
   "execution_count": 183,
   "metadata": {},
   "outputs": [
    {
     "data": {
      "text/plain": [
       "0    In the 22nd century, a paraplegic Marine is di...\n",
       "1    Captain Barbossa, long believed to be dead, ha...\n",
       "2    A cryptic message from Bond’s past sends him o...\n",
       "3    Following the death of District Attorney Harve...\n",
       "4    John Carter is a war-weary, former military ca...\n",
       "Name: overview, dtype: object"
      ]
     },
     "execution_count": 183,
     "metadata": {},
     "output_type": "execute_result"
    }
   ],
   "source": [
    "movies['overview'].head()"
   ]
  },
  {
   "cell_type": "markdown",
   "metadata": {},
   "source": [
    "\n",
    "\n",
    "Now we'll compute Term Frequency-Inverse Document Frequency (TF-IDF) vectors for each overview.\n",
    "\n",
    "Now if you are wondering what is term frequency , it is the relative frequency of a word in a document and is given as (term instances/total instances). Inverse Document Frequency is the relative count of documents containing the term is given as log(number of documents/documents with term) The overall importance of each word to the documents in which they appear is equal to TF * IDF\n",
    "\n",
    "This will give you a matrix where each column represents a word in the overview vocabulary (all the words that appear in at least one document) and each row represents a movie, as before.This is done to reduce the importance of words that occur frequently in plot overviews and therefore, their significance in computing the final similarity score.\n",
    "\n",
    "Fortunately, scikit-learn gives you a built-in TfIdfVectorizer class that produces the TF-IDF matrix in a couple of lines. "
   ]
  },
  {
   "cell_type": "code",
   "execution_count": 184,
   "metadata": {},
   "outputs": [
    {
     "data": {
      "text/plain": [
       "(4803, 20978)"
      ]
     },
     "execution_count": 184,
     "metadata": {},
     "output_type": "execute_result"
    }
   ],
   "source": [
    "from sklearn.feature_extraction.text import TfidfVectorizer\n",
    "\n",
    "#Define a TF-IDF Vectorizer Object. Remove all english stop words such as 'the', 'a'\n",
    "tfidf = TfidfVectorizer(stop_words='english')\n",
    "\n",
    "#Replace NaN with an empty string\n",
    "movies['overview'] = movies['overview'].fillna('')\n",
    "\n",
    "#Construct the required TF-IDF matrix by fitting and transforming the data\n",
    "tfidf_matrix = tfidf.fit_transform(movies['overview'])\n",
    "\n",
    "#Output the shape of tfidf_matrix\n",
    "tfidf_matrix.shape"
   ]
  },
  {
   "cell_type": "markdown",
   "metadata": {},
   "source": [
    "\n",
    "\n",
    "We see that over 20,808 different words were used to describe the 4732 movies in our dataset.\n",
    "\n",
    "With this matrix in hand, we can now compute a similarity score. There are several candidates for this; such as the euclidean, the Pearson and the cosine similarity scores. There is no right answer to which score is the best. Different scores work well in different scenarios and it is often a good idea to experiment with different metrics.\n",
    "\n",
    "We will be using the cosine similarity to calculate a numeric quantity that denotes the similarity between two movies. We use the cosine similarity score since it is independent of magnitude and is relatively easy and fast to calculate. Mathematically, it is defined as follows:\n",
    "\n",
    "Since we have used the TF-IDF vectorizer, calculating the dot product will directly give us the cosine similarity score. Therefore, we will use sklearn's linear_kernel() instead of cosine_similarities() since it is faster.\n"
   ]
  },
  {
   "cell_type": "code",
   "execution_count": 185,
   "metadata": {
    "collapsed": true
   },
   "outputs": [],
   "source": [
    "# Import linear_kernel\n",
    "from sklearn.metrics.pairwise import linear_kernel\n",
    "\n",
    "# Compute the cosine similarity matrix\n",
    "cosine_sim = linear_kernel(tfidf_matrix, tfidf_matrix)"
   ]
  },
  {
   "cell_type": "markdown",
   "metadata": {},
   "source": [
    "\n",
    "\n",
    "We are going to define a function that takes in a movie title as an input and outputs a list of the 10 most similar movies. Firstly, for this, we need a reverse mapping of movie titles and DataFrame indices. In other words, we need a mechanism to identify the index of a movie in our metadata DataFrame, given its title.\n"
   ]
  },
  {
   "cell_type": "code",
   "execution_count": 186,
   "metadata": {
    "collapsed": true
   },
   "outputs": [],
   "source": [
    "#Construct a reverse map of indices and movie titles\n",
    "indices = pd.Series(movies.index, index=movies['title']).drop_duplicates()"
   ]
  },
  {
   "cell_type": "markdown",
   "metadata": {},
   "source": [
    "\n",
    "\n",
    "We are now in a good position to define our recommendation function. These are the following steps we'll follow :-\n",
    "\n",
    "    Get the index of the movie given its title.\n",
    "    Get the list of cosine similarity scores for that particular movie with all movies. Convert it into a list of tuples where the first element is its position and the second is the similarity score.\n",
    "    Sort the aforementioned list of tuples based on the similarity scores; that is, the second element.\n",
    "    Get the top 10 elements of this list. Ignore the first element as it refers to self (the movie most similar to a particular movie is the movie itself).\n",
    "    Return the titles corresponding to the indices of the top elements.\n",
    "\n"
   ]
  },
  {
   "cell_type": "code",
   "execution_count": 187,
   "metadata": {
    "collapsed": true
   },
   "outputs": [],
   "source": [
    "# Function that takes in movie title as input and outputs most similar movies\n",
    "def get_recommendations(title, cosine_sim=cosine_sim):\n",
    "    # Get the index of the movie that matches the title\n",
    "    idx = indices[title]\n",
    "\n",
    "    # Get the pairwsie similarity scores of all movies with that movie\n",
    "    sim_scores = list(enumerate(cosine_sim[idx]))\n",
    "\n",
    "    # Sort the movies based on the similarity scores\n",
    "    sim_scores = sorted(sim_scores, key=lambda x: x[1], reverse=True)\n",
    "\n",
    "    # Get the scores of the 10 most similar movies\n",
    "    sim_scores = sim_scores[1:11]\n",
    "\n",
    "    # Get the movie indices\n",
    "    movie_indices = [i[0] for i in sim_scores]\n",
    "\n",
    "    # Return the top 10 most similar movies\n",
    "    return movies['title'].iloc[movie_indices]"
   ]
  },
  {
   "cell_type": "code",
   "execution_count": 188,
   "metadata": {},
   "outputs": [
    {
     "data": {
      "text/plain": [
       "65                              The Dark Knight\n",
       "299                              Batman Forever\n",
       "428                              Batman Returns\n",
       "1359                                     Batman\n",
       "3854    Batman: The Dark Knight Returns, Part 2\n",
       "119                               Batman Begins\n",
       "2507                                  Slow Burn\n",
       "9            Batman v Superman: Dawn of Justice\n",
       "1181                                        JFK\n",
       "210                              Batman & Robin\n",
       "Name: title, dtype: object"
      ]
     },
     "execution_count": 188,
     "metadata": {},
     "output_type": "execute_result"
    }
   ],
   "source": [
    "get_recommendations('The Dark Knight Rises')"
   ]
  },
  {
   "cell_type": "markdown",
   "metadata": {},
   "source": [
    "\n",
    "\n",
    "While our system has done a decent job of finding movies with similar plot descriptions, the quality of recommendations is not that great. \"The Dark Knight Rises\" returns all Batman movies while it is more likely that the people who liked that movie are more inclined to enjoy other Christopher Nolan movies. This is something that cannot be captured by the present system.\n"
   ]
  },
  {
   "cell_type": "markdown",
   "metadata": {},
   "source": [
    "\n",
    "Credits, Genres and Keywords Based Recommender\n",
    "\n",
    "It goes without saying that the quality of our recommender would be increased with the usage of better metadata. That is exactly what we are going to do in this section. We are going to build a recommender based on the following metadata: the 3 top actors, the director, related genres and the movie plot keywords.\n",
    "\n",
    "From the cast, crew and keywords features, we need to extract the three most important actors, the director and the keywords associated with that movie. Right now, our data is present in the form of \"stringified\" lists , we need to convert it into a safe and usable structure\n"
   ]
  },
  {
   "cell_type": "code",
   "execution_count": 189,
   "metadata": {
    "collapsed": true
   },
   "outputs": [],
   "source": [
    "# Parse the stringified features into their corresponding python object\n",
    "\n",
    "from ast import literal_eval\n",
    "\n",
    "features = ['cast', 'crew', 'keywords', 'genres']\n",
    "for feature in features:\n",
    "    movies[feature] = movies[feature].apply(literal_eval)"
   ]
  },
  {
   "cell_type": "code",
   "execution_count": 190,
   "metadata": {
    "collapsed": true
   },
   "outputs": [],
   "source": [
    "#Now we will write function to extract information from each function\n",
    "# Get the director's name from the crew feature. If director is not listed, return NaN\n",
    "def get_director(x):\n",
    "    for i in x:\n",
    "        if i['job'] == 'Director':\n",
    "            return i['name']\n",
    "    return np.nan"
   ]
  },
  {
   "cell_type": "code",
   "execution_count": 191,
   "metadata": {
    "collapsed": true
   },
   "outputs": [],
   "source": [
    "# Returns the list top 3 elements or entire list; whichever is more.\n",
    "def get_list(x):\n",
    "    if isinstance(x, list):\n",
    "        names = [i['name'] for i in x]\n",
    "        #Check if more than 3 elements exist. If yes, return only first three. If no, return entire list.\n",
    "        if len(names) > 3:\n",
    "            names = names[:3]\n",
    "        return names\n",
    "\n",
    "    #Return empty list in case of missing/malformed data\n",
    "    return []"
   ]
  },
  {
   "cell_type": "code",
   "execution_count": 194,
   "metadata": {
    "collapsed": true
   },
   "outputs": [],
   "source": [
    "# Define new director, cast, genres and keywords features that are in a suitable form.\n",
    "movies['director'] = movies['crew'].apply(get_director)\n",
    "\n",
    "features = ['cast', 'keywords', 'genres']\n",
    "for feature in features:\n",
    "    movies[feature] = movies[feature].apply(get_list)"
   ]
  },
  {
   "cell_type": "code",
   "execution_count": 196,
   "metadata": {},
   "outputs": [
    {
     "data": {
      "text/html": [
       "<div>\n",
       "<style scoped>\n",
       "    .dataframe tbody tr th:only-of-type {\n",
       "        vertical-align: middle;\n",
       "    }\n",
       "\n",
       "    .dataframe tbody tr th {\n",
       "        vertical-align: top;\n",
       "    }\n",
       "\n",
       "    .dataframe thead th {\n",
       "        text-align: right;\n",
       "    }\n",
       "</style>\n",
       "<table border=\"1\" class=\"dataframe\">\n",
       "  <thead>\n",
       "    <tr style=\"text-align: right;\">\n",
       "      <th></th>\n",
       "      <th>title</th>\n",
       "      <th>cast</th>\n",
       "      <th>director</th>\n",
       "      <th>keywords</th>\n",
       "      <th>genres</th>\n",
       "    </tr>\n",
       "  </thead>\n",
       "  <tbody>\n",
       "    <tr>\n",
       "      <th>0</th>\n",
       "      <td>Avatar</td>\n",
       "      <td>[Sam Worthington, Zoe Saldana, Sigourney Weaver]</td>\n",
       "      <td>James Cameron</td>\n",
       "      <td>[culture clash, future, space war]</td>\n",
       "      <td>[Action, Adventure, Fantasy]</td>\n",
       "    </tr>\n",
       "    <tr>\n",
       "      <th>1</th>\n",
       "      <td>Pirates of the Caribbean: At World's End</td>\n",
       "      <td>[Johnny Depp, Orlando Bloom, Keira Knightley]</td>\n",
       "      <td>Gore Verbinski</td>\n",
       "      <td>[ocean, drug abuse, exotic island]</td>\n",
       "      <td>[Adventure, Fantasy, Action]</td>\n",
       "    </tr>\n",
       "    <tr>\n",
       "      <th>2</th>\n",
       "      <td>Spectre</td>\n",
       "      <td>[Daniel Craig, Christoph Waltz, Léa Seydoux]</td>\n",
       "      <td>Sam Mendes</td>\n",
       "      <td>[spy, based on novel, secret agent]</td>\n",
       "      <td>[Action, Adventure, Crime]</td>\n",
       "    </tr>\n",
       "  </tbody>\n",
       "</table>\n",
       "</div>"
      ],
      "text/plain": [
       "                                      title  \\\n",
       "0                                    Avatar   \n",
       "1  Pirates of the Caribbean: At World's End   \n",
       "2                                   Spectre   \n",
       "\n",
       "                                               cast        director  \\\n",
       "0  [Sam Worthington, Zoe Saldana, Sigourney Weaver]   James Cameron   \n",
       "1     [Johnny Depp, Orlando Bloom, Keira Knightley]  Gore Verbinski   \n",
       "2      [Daniel Craig, Christoph Waltz, Léa Seydoux]      Sam Mendes   \n",
       "\n",
       "                              keywords                        genres  \n",
       "0   [culture clash, future, space war]  [Action, Adventure, Fantasy]  \n",
       "1   [ocean, drug abuse, exotic island]  [Adventure, Fantasy, Action]  \n",
       "2  [spy, based on novel, secret agent]    [Action, Adventure, Crime]  "
      ]
     },
     "execution_count": 196,
     "metadata": {},
     "output_type": "execute_result"
    }
   ],
   "source": [
    "# Print the new features of the first 3 films\n",
    "movies[['title', 'cast', 'director', 'keywords', 'genres']].head(3)"
   ]
  },
  {
   "cell_type": "code",
   "execution_count": 197,
   "metadata": {
    "collapsed": true
   },
   "outputs": [],
   "source": [
    "# Function to convert all strings to lower case and strip names of spaces\n",
    "def clean_data(x):\n",
    "    if isinstance(x, list):\n",
    "        return [str.lower(i.replace(\" \", \"\")) for i in x]\n",
    "    else:\n",
    "        #Check if director exists. If not, return empty string\n",
    "        if isinstance(x, str):\n",
    "            return str.lower(x.replace(\" \", \"\"))\n",
    "        else:\n",
    "            return ''"
   ]
  },
  {
   "cell_type": "code",
   "execution_count": 198,
   "metadata": {
    "collapsed": true
   },
   "outputs": [],
   "source": [
    "\n",
    "\n",
    "# Apply clean_data function to your features.\n",
    "features = ['cast', 'keywords', 'director', 'genres']\n",
    "\n",
    "for feature in features:\n",
    "    movies[feature] = movies[feature].apply(clean_data)\n",
    "\n"
   ]
  },
  {
   "cell_type": "markdown",
   "metadata": {},
   "source": [
    "We are now in a position to create our \"metadata set\", which is a string that contains all the metadata that we want to feed to our vectorizer (namely actors, director and keywords)."
   ]
  },
  {
   "cell_type": "code",
   "execution_count": 199,
   "metadata": {
    "collapsed": true
   },
   "outputs": [],
   "source": [
    "def create_soup(x):\n",
    "    return ' '.join(x['keywords']) + ' ' + ' '.join(x['cast']) + ' ' + x['director'] + ' ' + ' '.join(x['genres'])\n",
    "movies['soup'] = movies.apply(create_soup, axis=1)"
   ]
  },
  {
   "cell_type": "markdown",
   "metadata": {},
   "source": [
    "The next steps are the same as what we did with our plot description based recommender. One important difference is that we use the CountVectorizer() instead of TF-IDF. This is because we do not want to down-weight the presence of an actor/director if he or she has acted or directed in relatively more movies. It doesn't make much intuitive sense."
   ]
  },
  {
   "cell_type": "code",
   "execution_count": 200,
   "metadata": {
    "collapsed": true
   },
   "outputs": [],
   "source": [
    "# Import CountVectorizer and create the count matrix\n",
    "from sklearn.feature_extraction.text import CountVectorizer\n",
    "\n",
    "count = CountVectorizer(stop_words='english')\n",
    "count_matrix = count.fit_transform(movies['soup'])"
   ]
  },
  {
   "cell_type": "code",
   "execution_count": 201,
   "metadata": {
    "collapsed": true
   },
   "outputs": [],
   "source": [
    "# Compute the Cosine Similarity matrix based on the count_matrix\n",
    "from sklearn.metrics.pairwise import cosine_similarity\n",
    "\n",
    "cosine_sim2 = cosine_similarity(count_matrix, count_matrix)"
   ]
  },
  {
   "cell_type": "code",
   "execution_count": 203,
   "metadata": {
    "collapsed": true
   },
   "outputs": [],
   "source": [
    "# Reset index of our main DataFrame and construct reverse mapping as before\n",
    "movies = movies.reset_index()\n",
    "indices = pd.Series(movies.index, index=movies['title'])"
   ]
  },
  {
   "cell_type": "code",
   "execution_count": 204,
   "metadata": {},
   "outputs": [
    {
     "data": {
      "text/plain": [
       "65               The Dark Knight\n",
       "119                Batman Begins\n",
       "4638    Amidst the Devil's Wings\n",
       "1196                The Prestige\n",
       "3073           Romeo Is Bleeding\n",
       "3326              Black November\n",
       "1503                      Takers\n",
       "1986                      Faster\n",
       "303                     Catwoman\n",
       "747               Gangster Squad\n",
       "Name: title, dtype: object"
      ]
     },
     "execution_count": 204,
     "metadata": {},
     "output_type": "execute_result"
    }
   ],
   "source": [
    "get_recommendations('The Dark Knight Rises', cosine_sim2)"
   ]
  },
  {
   "cell_type": "markdown",
   "metadata": {},
   "source": [
    "This is giving better recommendation than previous systme.Lets try some more movies"
   ]
  },
  {
   "cell_type": "code",
   "execution_count": 205,
   "metadata": {},
   "outputs": [
    {
     "data": {
      "text/plain": [
       "867      The Godfather: Part III\n",
       "2731      The Godfather: Part II\n",
       "4638    Amidst the Devil's Wings\n",
       "2649           The Son of No One\n",
       "1525              Apocalypse Now\n",
       "1018             The Cotton Club\n",
       "1170     The Talented Mr. Ripley\n",
       "1209               The Rainmaker\n",
       "1394               Donnie Brasco\n",
       "1850                    Scarface\n",
       "Name: title, dtype: object"
      ]
     },
     "execution_count": 205,
     "metadata": {},
     "output_type": "execute_result"
    }
   ],
   "source": [
    "get_recommendations('The Godfather', cosine_sim2)"
   ]
  },
  {
   "cell_type": "code",
   "execution_count": 208,
   "metadata": {},
   "outputs": [
    {
     "data": {
      "text/plain": [
       "381     The Nutcracker: The Untold Story\n",
       "3064                    Run, Fatboy, Run\n",
       "4088                       Before Sunset\n",
       "1934                     Say It Isn't So\n",
       "1680         Savva. Heart of the Warrior\n",
       "4661                      The Big Parade\n",
       "4640         Love and Other Catastrophes\n",
       "2872                From Justin to Kelly\n",
       "2233                          Little Boy\n",
       "967                            Hereafter\n",
       "Name: title, dtype: object"
      ]
     },
     "execution_count": 208,
     "metadata": {},
     "output_type": "execute_result"
    }
   ],
   "source": [
    "get_recommendations('Before Sunrise')"
   ]
  },
  {
   "cell_type": "code",
   "execution_count": null,
   "metadata": {
    "collapsed": true
   },
   "outputs": [],
   "source": [
    "get_recommendations('Pulp Fiction')"
   ]
  }
 ],
 "metadata": {
  "kernelspec": {
   "display_name": "Python 3",
   "language": "python",
   "name": "python3"
  },
  "language_info": {
   "codemirror_mode": {
    "name": "ipython",
    "version": 3
   },
   "file_extension": ".py",
   "mimetype": "text/x-python",
   "name": "python",
   "nbconvert_exporter": "python",
   "pygments_lexer": "ipython3",
   "version": "3.6.2"
  }
 },
 "nbformat": 4,
 "nbformat_minor": 4
}
